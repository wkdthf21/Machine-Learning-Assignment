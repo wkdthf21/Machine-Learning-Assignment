{
  "nbformat": 4,
  "nbformat_minor": 0,
  "metadata": {
    "colab": {
      "name": "LaTeX.ipynb",
      "provenance": [],
      "authorship_tag": "ABX9TyOB2vTUzYLluyMpW+Ol5WsX",
      "include_colab_link": true
    },
    "kernelspec": {
      "name": "python3",
      "display_name": "Python 3"
    }
  },
  "cells": [
    {
      "cell_type": "markdown",
      "metadata": {
        "id": "view-in-github",
        "colab_type": "text"
      },
      "source": [
        "<a href=\"https://colab.research.google.com/github/wkdthf21/Machine-Learning-Assignment/blob/master/%EC%9E%A5%EC%98%88%EC%86%94_excercise_01_LaTeX.ipynb\" target=\"_parent\"><img src=\"https://colab.research.google.com/assets/colab-badge.svg\" alt=\"Open In Colab\"/></a>"
      ]
    },
    {
      "cell_type": "markdown",
      "metadata": {
        "id": "IDIFesrGW_u9",
        "colab_type": "text"
      },
      "source": [
        "$(1) \\quad f(x) = ax^2 + bx + c$"
      ]
    },
    {
      "cell_type": "markdown",
      "metadata": {
        "id": "T-j9zzAMYKTs",
        "colab_type": "text"
      },
      "source": [
        "$(2) \\quad f(x) = \\exp(x) $"
      ]
    },
    {
      "cell_type": "markdown",
      "metadata": {
        "id": "bH8su4SsYtBT",
        "colab_type": "text"
      },
      "source": [
        "$(3) \\quad f(x) = {}_{b}^{a}, \\quad a \\in \\mathbb{R}, b \\in \\mathbb{R} $"
      ]
    },
    {
      "cell_type": "markdown",
      "metadata": {
        "id": "sGihPGxBZWjA",
        "colab_type": "text"
      },
      "source": [
        "$(4) \\quad f(x) = \\sum_{i=1}^n x_i, \\quad x = (x_1, x_2, \\cdots, x_n)$"
      ]
    },
    {
      "cell_type": "markdown",
      "metadata": {
        "id": "PZ_KRPiTaUeA",
        "colab_type": "text"
      },
      "source": [
        "$(5) \\quad f(x) = \\int_{\\Omega} \\sigma(x, t) dt$"
      ]
    },
    {
      "cell_type": "markdown",
      "metadata": {
        "id": "mGcWyu0UaqBZ",
        "colab_type": "text"
      },
      "source": [
        "$(6) \\quad \\frac{\\partial \\mathbb{E}}{\\partial w}$"
      ]
    }
  ]
}