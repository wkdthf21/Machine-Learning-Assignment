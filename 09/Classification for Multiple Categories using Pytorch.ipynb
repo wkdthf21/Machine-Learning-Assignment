{
 "cells": [
  {
   "cell_type": "markdown",
   "metadata": {
    "id": "6F1X6-Qck0TL"
   },
   "source": [
    "# 0. Install Pytorch\n",
    "<hr>"
   ]
  },
  {
   "cell_type": "code",
   "execution_count": null,
   "metadata": {
    "id": "ShPwaBo9ke8T"
   },
   "outputs": [],
   "source": [
    "!pip install torch==1.2.0 torchvision==0.4.0"
   ]
  },
  {
   "cell_type": "code",
   "execution_count": null,
   "metadata": {
    "id": "kl5kywCBh-cF"
   },
   "outputs": [],
   "source": [
    "!pip install pillow==6.2.1"
   ]
  },
  {
   "cell_type": "markdown",
   "metadata": {
    "id": "cCXTu8wdk8rL"
   },
   "source": [
    "# 1. Setting\n",
    "<hr>"
   ]
  },
  {
   "cell_type": "markdown",
   "metadata": {
    "id": "5iqElQ7ImPjO"
   },
   "source": [
    "import library"
   ]
  },
  {
   "cell_type": "code",
   "execution_count": null,
   "metadata": {
    "colab": {
     "base_uri": "https://localhost:8080/"
    },
    "executionInfo": {
     "elapsed": 1962,
     "status": "ok",
     "timestamp": 1605584888778,
     "user": {
      "displayName": "장예솔",
      "photoUrl": "",
      "userId": "10358588701743689220"
     },
     "user_tz": -540
    },
    "id": "gi699nZjTv3t",
    "outputId": "66b6f753-2e34-460d-b3ac-e709eed6f02f"
   },
   "outputs": [
    {
     "name": "stdout",
     "output_type": "stream",
     "text": [
      "nvcc: NVIDIA (R) Cuda compiler driver\n",
      "Copyright (c) 2005-2019 NVIDIA Corporation\n",
      "Built on Sun_Jul_28_19:07:16_PDT_2019\n",
      "Cuda compilation tools, release 10.1, V10.1.243\n",
      "Tue Nov 17 03:48:08 2020       \n",
      "+-----------------------------------------------------------------------------+\n",
      "| NVIDIA-SMI 455.38       Driver Version: 418.67       CUDA Version: 10.1     |\n",
      "|-------------------------------+----------------------+----------------------+\n",
      "| GPU  Name        Persistence-M| Bus-Id        Disp.A | Volatile Uncorr. ECC |\n",
      "| Fan  Temp  Perf  Pwr:Usage/Cap|         Memory-Usage | GPU-Util  Compute M. |\n",
      "|                               |                      |               MIG M. |\n",
      "|===============================+======================+======================|\n",
      "|   0  Tesla T4            Off  | 00000000:00:04.0 Off |                    0 |\n",
      "| N/A   64C    P8    13W /  70W |      0MiB / 15079MiB |      0%      Default |\n",
      "|                               |                      |                 ERR! |\n",
      "+-------------------------------+----------------------+----------------------+\n",
      "                                                                               \n",
      "+-----------------------------------------------------------------------------+\n",
      "| Processes:                                                                  |\n",
      "|  GPU   GI   CI        PID   Type   Process name                  GPU Memory |\n",
      "|        ID   ID                                                   Usage      |\n",
      "|=============================================================================|\n",
      "|  No running processes found                                                 |\n",
      "+-----------------------------------------------------------------------------+\n"
     ]
    }
   ],
   "source": [
    "!nvcc --version\n",
    "!nvidia-smi"
   ]
  },
  {
   "cell_type": "code",
   "execution_count": 61,
   "metadata": {
    "colab": {
     "base_uri": "https://localhost:8080/"
    },
    "executionInfo": {
     "elapsed": 984,
     "status": "ok",
     "timestamp": 1605614585084,
     "user": {
      "displayName": "장예솔",
      "photoUrl": "",
      "userId": "10358588701743689220"
     },
     "user_tz": -540
    },
    "id": "jPNFk7yzk7MZ",
    "outputId": "91c3dee0-2246-4303-86af-6bf9c128b510"
   },
   "outputs": [
    {
     "name": "stdout",
     "output_type": "stream",
     "text": [
      "True\n",
      "cuda\n"
     ]
    }
   ],
   "source": [
    "# import library\n",
    "import torch\n",
    "import torch.nn as nn\n",
    "import matplotlib.pyplot as plt\n",
    "import math\n",
    "from pandas import Series, DataFrame\n",
    "import pandas as pd\n",
    "\n",
    "torch.__version__\n",
    "\n",
    "# using gpu \n",
    "use_cuda = True\n",
    "device = torch.device(\"cuda\" if torch.cuda.is_available() else \"cpu\")\n",
    "print(torch.cuda.is_available())\n",
    "print(device)"
   ]
  },
  {
   "cell_type": "markdown",
   "metadata": {
    "id": "t6KGzvnQmdNs"
   },
   "source": [
    "# 2. Data\n",
    "<hr>"
   ]
  },
  {
   "cell_type": "markdown",
   "metadata": {
    "id": "t7aqMs_XoUU1"
   },
   "source": [
    "load data & apply normalization\n"
   ]
  },
  {
   "cell_type": "code",
   "execution_count": null,
   "metadata": {
    "colab": {
     "base_uri": "https://localhost:8080/",
     "height": 394,
     "referenced_widgets": [
      "4192de06890442de9fde59b137f5c7f8",
      "8d5ddcddf09049a1bc90074aa95e2487",
      "bca2f3f93e914e6f87810ed1f00445fa",
      "1d84af219d654b06934b6cb26c8f4530",
      "1198e2805c5a44c1a84d50fc28b54691",
      "8a153db490ea420f8e9eec985cf6fecc",
      "f0ca2f92ab1f48a19890ad83f1b8742e",
      "45254697f8974315a2b324192ba0fe65",
      "74d7b5be56e4463fb78e6be8a5d78d74",
      "e3b569edc3b8452e889b0bdd0256059d",
      "4dd0e2bbc3164f838c2bddf6f4ed93b2",
      "3e0e0386835a4b74a7832cd1eed59d23",
      "d2602be9199d49d4998333d3765cd5ab",
      "3b89cb82aef04bbca3cd1bf99e49c5d0",
      "8f9e911b209a4434aea3491db3bc1fb7",
      "c4e6e3f1d8864b2abef43d72a06318d6",
      "9b110685719940b4a165758aead060ff",
      "1b06f41937ce457898d372580d46546c",
      "c1da782c5bc24477bb1b14588a62f072",
      "b5035cbef3404605813e625cd23a1f32",
      "1a9423bfb24d4efaa74c4a2d1eacdd23",
      "1cd0b98f0733490e86383fc2f8de1a31",
      "216e569dbbfc4e17b140fb967f2f7482",
      "01dad2d84ecc4b91bb3b22cf6eed2410",
      "851b2f01890a4ead97622ab881d0672e",
      "3e3bc573b0ab4ba0b1565beb4d8409c2",
      "5d001a39e52844dca984f0584c52a344",
      "89426f113cad461eb5ce5cf6aeb3904e",
      "7e79553fc46b4b4fb7b78f80e5c889a9",
      "b13b6f8685554166b98724ad6d7010b4",
      "2a253863558a4a65ac15ccd94e51b45c",
      "b7dc9284ac444a4ab2b8d199e3888316"
     ]
    },
    "executionInfo": {
     "elapsed": 2726,
     "status": "ok",
     "timestamp": 1605584900281,
     "user": {
      "displayName": "장예솔",
      "photoUrl": "",
      "userId": "10358588701743689220"
     },
     "user_tz": -540
    },
    "id": "j7o1l5KGoSNg",
    "outputId": "5ab86ff2-d4b9-4213-a8a0-30ce555a03f5"
   },
   "outputs": [
    {
     "name": "stdout",
     "output_type": "stream",
     "text": [
      "Downloading http://yann.lecun.com/exdb/mnist/train-images-idx3-ubyte.gz to ./MNIST/MNIST/raw/train-images-idx3-ubyte.gz\n"
     ]
    },
    {
     "data": {
      "application/vnd.jupyter.widget-view+json": {
       "model_id": "4192de06890442de9fde59b137f5c7f8",
       "version_major": 2,
       "version_minor": 0
      },
      "text/plain": [
       "HBox(children=(FloatProgress(value=1.0, bar_style='info', max=1.0), HTML(value='')))"
      ]
     },
     "metadata": {
      "tags": []
     },
     "output_type": "display_data"
    },
    {
     "name": "stdout",
     "output_type": "stream",
     "text": [
      "Extracting ./MNIST/MNIST/raw/train-images-idx3-ubyte.gz to ./MNIST/MNIST/raw\n",
      "Downloading http://yann.lecun.com/exdb/mnist/train-labels-idx1-ubyte.gz to ./MNIST/MNIST/raw/train-labels-idx1-ubyte.gz\n"
     ]
    },
    {
     "data": {
      "application/vnd.jupyter.widget-view+json": {
       "model_id": "74d7b5be56e4463fb78e6be8a5d78d74",
       "version_major": 2,
       "version_minor": 0
      },
      "text/plain": [
       "HBox(children=(FloatProgress(value=1.0, bar_style='info', max=1.0), HTML(value='')))"
      ]
     },
     "metadata": {
      "tags": []
     },
     "output_type": "display_data"
    },
    {
     "name": "stdout",
     "output_type": "stream",
     "text": [
      "Extracting ./MNIST/MNIST/raw/train-labels-idx1-ubyte.gz to ./MNIST/MNIST/raw\n",
      "Downloading http://yann.lecun.com/exdb/mnist/t10k-images-idx3-ubyte.gz to ./MNIST/MNIST/raw/t10k-images-idx3-ubyte.gz\n",
      "\n"
     ]
    },
    {
     "data": {
      "application/vnd.jupyter.widget-view+json": {
       "model_id": "9b110685719940b4a165758aead060ff",
       "version_major": 2,
       "version_minor": 0
      },
      "text/plain": [
       "HBox(children=(FloatProgress(value=1.0, bar_style='info', max=1.0), HTML(value='')))"
      ]
     },
     "metadata": {
      "tags": []
     },
     "output_type": "display_data"
    },
    {
     "name": "stdout",
     "output_type": "stream",
     "text": [
      "Extracting ./MNIST/MNIST/raw/t10k-images-idx3-ubyte.gz to ./MNIST/MNIST/raw\n",
      "Downloading http://yann.lecun.com/exdb/mnist/t10k-labels-idx1-ubyte.gz to ./MNIST/MNIST/raw/t10k-labels-idx1-ubyte.gz\n"
     ]
    },
    {
     "data": {
      "application/vnd.jupyter.widget-view+json": {
       "model_id": "851b2f01890a4ead97622ab881d0672e",
       "version_major": 2,
       "version_minor": 0
      },
      "text/plain": [
       "HBox(children=(FloatProgress(value=1.0, bar_style='info', max=1.0), HTML(value='')))"
      ]
     },
     "metadata": {
      "tags": []
     },
     "output_type": "display_data"
    },
    {
     "name": "stdout",
     "output_type": "stream",
     "text": [
      "Extracting ./MNIST/MNIST/raw/t10k-labels-idx1-ubyte.gz to ./MNIST/MNIST/raw\n",
      "Processing...\n",
      "Done!\n"
     ]
    },
    {
     "name": "stderr",
     "output_type": "stream",
     "text": [
      "/usr/local/lib/python3.6/dist-packages/torchvision/datasets/mnist.py:480: UserWarning: The given NumPy array is not writeable, and PyTorch does not support non-writeable tensors. This means you can write to the underlying (supposedly non-writeable) NumPy array using the tensor. You may want to copy the array to protect its data or make it writeable before converting it to a tensor. This type of warning will be suppressed for the rest of this program. (Triggered internally at  /pytorch/torch/csrc/utils/tensor_numpy.cpp:141.)\n",
      "  return torch.from_numpy(parsed.astype(m[2], copy=False)).view(*s)\n"
     ]
    }
   ],
   "source": [
    "from torchvision import transforms, datasets\n",
    "\n",
    "\n",
    "transform = transforms.Compose([\n",
    "    transforms.ToTensor(),\n",
    "    transforms.Normalize((0.1307,),(0.3081,)),  # mean value = 0.1307, standard deviation value = 0.3081\n",
    "])\n",
    "\n",
    "data_path = './MNIST'\n",
    "\n",
    "training_set = datasets.MNIST(root = data_path, train= True, download=True, transform= transform)\n",
    "testing_set = datasets.MNIST(root = data_path, train= False, download=True, transform= transform)"
   ]
  },
  {
   "cell_type": "markdown",
   "metadata": {
    "id": "HNaFxpRjz-5K"
   },
   "source": [
    "# 3. Model\n",
    "<hr>"
   ]
  },
  {
   "cell_type": "markdown",
   "metadata": {
    "id": "XKcMoJPj0EDW"
   },
   "source": [
    "- design a neural network that consists of three fully connected layers with an activation function of Sigmoid\n",
    "\n",
    "- the activation function for the output layer is LogSoftmax"
   ]
  },
  {
   "cell_type": "code",
   "execution_count": null,
   "metadata": {
    "id": "Jjr9_OWBon36"
   },
   "outputs": [],
   "source": [
    "class classification(nn.Module):\n",
    "    def __init__(self):\n",
    "        super(classification, self).__init__()\n",
    "        \n",
    "        # construct layers for a neural network\n",
    "        self.classifier1 = nn.Sequential(\n",
    "            nn.Linear(in_features=28*28, out_features=20*20),\n",
    "            nn.Sigmoid(),\n",
    "        ) \n",
    "        self.classifier2 = nn.Sequential(\n",
    "            nn.Linear(in_features=20*20, out_features=10*10),\n",
    "            nn.Sigmoid(),\n",
    "        ) \n",
    "        self.classifier3 = nn.Sequential(\n",
    "            nn.Linear(in_features=10*10, out_features=10),\n",
    "            nn.LogSoftmax(dim=1),\n",
    "        ) \n",
    "        \n",
    "        \n",
    "    def forward(self, inputs):                 # [batchSize, 1, 28, 28]\n",
    "        inputs = inputs.to(device)\n",
    "        x = inputs.view(inputs.size(0), -1)    # [batchSize, 28*28]\n",
    "        x = self.classifier1(x)                # [batchSize, 20*20]\n",
    "        x = self.classifier2(x)                # [batchSize, 10*10]\n",
    "        out = self.classifier3(x)              # [batchSize, 10]\n",
    "        \n",
    "        return out\n"
   ]
  },
  {
   "cell_type": "markdown",
   "metadata": {
    "id": "-TCckpP81D1S"
   },
   "source": [
    "# 4. Loss Function\n",
    "<hr>"
   ]
  },
  {
   "cell_type": "code",
   "execution_count": null,
   "metadata": {
    "colab": {
     "base_uri": "https://localhost:8080/"
    },
    "executionInfo": {
     "elapsed": 13318,
     "status": "ok",
     "timestamp": 1605584918960,
     "user": {
      "displayName": "장예솔",
      "photoUrl": "",
      "userId": "10358588701743689220"
     },
     "user_tz": -540
    },
    "id": "VPdw7Z-s0TCb",
    "outputId": "feb0a3d3-1f61-457d-f536-46c61c00bcb0"
   },
   "outputs": [
    {
     "name": "stdout",
     "output_type": "stream",
     "text": [
      "\n",
      "tensor(2.3352, device='cuda:0', grad_fn=<NllLossBackward>)\n"
     ]
    }
   ],
   "source": [
    "# Test\n",
    "model = classification().to(device)\n",
    "criterion = nn.NLLLoss()\n",
    "train_y_pred = model(training_set.data.float())\n",
    "train_y = training_set.targets.to(device)\n",
    "loss = criterion(train_y_pred, train_y)\n",
    "print(loss)"
   ]
  },
  {
   "cell_type": "markdown",
   "metadata": {
    "id": "8cdUtZUR6Hl5"
   },
   "source": [
    "# 5. Optimization\n",
    "<hr>"
   ]
  },
  {
   "cell_type": "code",
   "execution_count": null,
   "metadata": {
    "id": "RZ7NWKxA2B-F"
   },
   "outputs": [],
   "source": [
    "def gradient_descent(data_set, batch_size, \n",
    "                     learning_rate_value, num_epochs) :\n",
    "\n",
    "  # classifier\n",
    "  model = classification().to(device)\n",
    "\n",
    "  # optimizer\n",
    "  optimizer = torch.optim.SGD(model.parameters(), lr=learning_rate_value)\n",
    "\n",
    "  # loss function\n",
    "  criterion = nn.NLLLoss()\n",
    "\n",
    "  # batching\n",
    "  data_loader =  torch.utils.data.DataLoader(\n",
    "      data_set,\n",
    "      batch_size=batch_size,\n",
    "      shuffle=True)\n",
    "\n",
    "  # return variables\n",
    "  loss_list, acc_list = [], []\n",
    "\n",
    "\n",
    "  # training\n",
    "  for epoch in range(num_epochs):\n",
    "\n",
    "    loss_sum = 0\n",
    "    acc_sum = 0\n",
    "    iteration = 0\n",
    "\n",
    "    for xs, ts in iter(data_loader):\n",
    "        \n",
    "        if len(ts) != batch_size:\n",
    "          continue\n",
    "        \n",
    "        y_pred = model(xs.to(device))\n",
    "        loss = criterion(y_pred, ts.to(device))\n",
    "        loss.backward()\n",
    "        optimizer.step()\n",
    "        optimizer.zero_grad()\n",
    "\n",
    "        iteration = iteration + 1\n",
    "        loss_sum = loss_sum + float(loss)\n",
    "        zs = y_pred.max(1, keepdim=True)[1]  # get the index of the max logit\n",
    "        ts = ts.to(device)\n",
    "        acc_sum = acc_sum + zs.eq(ts.view_as(zs)).sum().item() / int(ts.shape[0])\n",
    "\n",
    "    loss_avg = math.trunc((loss_sum/iteration) * 1000) / 1000\n",
    "    acc_avg = math.trunc((acc_sum/iteration) * 1000) / 1000\n",
    "    loss_list.append(loss_avg)\n",
    "    acc_list.append(acc_avg)\n",
    "    \n",
    "    if iteration == 0 or epoch % 20 != 0:\n",
    "      continue\n",
    "\n",
    "    print(\"epoch : \", epoch, \" --------------------------------- \")\n",
    "    print(\"loss : \", loss_avg)\n",
    "    print(\"accuracy : \", acc_avg)\n",
    "\n",
    "  return loss_list, acc_list "
   ]
  },
  {
   "cell_type": "markdown",
   "metadata": {
    "id": "sxKvl2f_Q_p_"
   },
   "source": [
    "# 6. run gradient descent with different mini-batches sizes\n",
    "<hr>"
   ]
  },
  {
   "cell_type": "code",
   "execution_count": null,
   "metadata": {
    "id": "cXAsG7kPM2o7"
   },
   "outputs": [],
   "source": [
    "batch_sizes = [32, 64, 128]\n",
    "training_loss_list, training_acc_list = [[], [], []], [[], [] ,[]]\n",
    "testing_loss_list, testing_acc_list = [[], [], []], [[], [] ,[]]"
   ]
  },
  {
   "cell_type": "code",
   "execution_count": null,
   "metadata": {
    "colab": {
     "base_uri": "https://localhost:8080/"
    },
    "executionInfo": {
     "elapsed": 2703643,
     "status": "ok",
     "timestamp": 1605587622618,
     "user": {
      "displayName": "장예솔",
      "photoUrl": "",
      "userId": "10358588701743689220"
     },
     "user_tz": -540
    },
    "id": "M0QaOGrhvtKo",
    "outputId": "6f732474-829f-4e55-8fde-f48b42a80ed9"
   },
   "outputs": [
    {
     "name": "stdout",
     "output_type": "stream",
     "text": [
      "=================== batch size is 32 ===================\n",
      "epoch :  0  --------------------------------- \n",
      "loss :  1.964\n",
      "accuracy :  0.41\n",
      "epoch :  20  --------------------------------- \n",
      "loss :  0.143\n",
      "accuracy :  0.959\n",
      "epoch :  40  --------------------------------- \n",
      "loss :  0.068\n",
      "accuracy :  0.981\n",
      "epoch :  60  --------------------------------- \n",
      "loss :  0.037\n",
      "accuracy :  0.991\n",
      "epoch :  80  --------------------------------- \n",
      "loss :  0.02\n",
      "accuracy :  0.996\n",
      "epoch :  100  --------------------------------- \n",
      "loss :  0.012\n",
      "accuracy :  0.998\n",
      "epoch :  120  --------------------------------- \n",
      "loss :  0.008\n",
      "accuracy :  0.999\n",
      "epoch :  140  --------------------------------- \n",
      "loss :  0.005\n",
      "accuracy :  0.999\n",
      "epoch :  160  --------------------------------- \n",
      "loss :  0.004\n",
      "accuracy :  0.999\n",
      "epoch :  180  --------------------------------- \n",
      "loss :  0.003\n",
      "accuracy :  0.999\n"
     ]
    }
   ],
   "source": [
    "# Training Data Batch Size 32\n",
    "print(\"=================== batch size is 32 ===================\")\n",
    "loss_list, acc_list = gradient_descent(training_set, 32, 0.015, 200)\n",
    "training_loss_list[0] = loss_list\n",
    "training_acc_list[0] = acc_list"
   ]
  },
  {
   "cell_type": "code",
   "execution_count": null,
   "metadata": {
    "colab": {
     "base_uri": "https://localhost:8080/"
    },
    "executionInfo": {
     "elapsed": 3139410,
     "status": "ok",
     "timestamp": 1605588066048,
     "user": {
      "displayName": "장예솔",
      "photoUrl": "",
      "userId": "10358588701743689220"
     },
     "user_tz": -540
    },
    "id": "0GpjM0B2TLzH",
    "outputId": "1b2ac481-7e58-4b52-e343-03e9a282d61a"
   },
   "outputs": [
    {
     "name": "stdout",
     "output_type": "stream",
     "text": [
      "=================== batch size is 32 ===================\n",
      "epoch :  0  --------------------------------- \n",
      "loss :  2.29\n",
      "accuracy :  0.14\n",
      "epoch :  20  --------------------------------- \n",
      "loss :  0.368\n",
      "accuracy :  0.899\n",
      "epoch :  40  --------------------------------- \n",
      "loss :  0.241\n",
      "accuracy :  0.931\n",
      "epoch :  60  --------------------------------- \n",
      "loss :  0.177\n",
      "accuracy :  0.949\n",
      "epoch :  80  --------------------------------- \n",
      "loss :  0.133\n",
      "accuracy :  0.964\n",
      "epoch :  100  --------------------------------- \n",
      "loss :  0.1\n",
      "accuracy :  0.974\n",
      "epoch :  120  --------------------------------- \n",
      "loss :  0.075\n",
      "accuracy :  0.982\n",
      "epoch :  140  --------------------------------- \n",
      "loss :  0.056\n",
      "accuracy :  0.988\n",
      "epoch :  160  --------------------------------- \n",
      "loss :  0.042\n",
      "accuracy :  0.991\n",
      "epoch :  180  --------------------------------- \n",
      "loss :  0.031\n",
      "accuracy :  0.995\n"
     ]
    }
   ],
   "source": [
    "# Testing Data Batch Size 32\n",
    "print(\"=================== batch size is 32 ===================\")\n",
    "loss_list, acc_list = gradient_descent(testing_set, 32, 0.015, 200)\n",
    "testing_loss_list[0] = loss_list\n",
    "testing_acc_list[0] = acc_list"
   ]
  },
  {
   "cell_type": "code",
   "execution_count": null,
   "metadata": {
    "colab": {
     "base_uri": "https://localhost:8080/",
     "height": 571
    },
    "executionInfo": {
     "elapsed": 1670,
     "status": "ok",
     "timestamp": 1605588067757,
     "user": {
      "displayName": "장예솔",
      "photoUrl": "",
      "userId": "10358588701743689220"
     },
     "user_tz": -540
    },
    "id": "pfJ8ca1tTVDU",
    "outputId": "437a0e97-fcee-4bdb-fed3-2988aaf6da43"
   },
   "outputs": [
    {
     "data": {
      "image/png": "[encoded data removed]",
      "text/plain": [
       "<Figure size 432x288 with 1 Axes>"
      ]
     },
     "metadata": {
      "tags": []
     },
     "output_type": "display_data"
    },
    {
     "data": {
      "image/png": "[encoded data removed]",
      "text/plain": [
       "<Figure size 432x288 with 1 Axes>"
      ]
     },
     "metadata": {
      "tags": []
     },
     "output_type": "display_data"
    }
   ],
   "source": [
    "# Plot Batch Size 32\n",
    "plt.suptitle(\"Batch Size = {}\".format(batch_sizes[0]))\n",
    "plt.title(\"loss\")\n",
    "plt.plot(training_loss_list[0], c = 'red', label = 'train loss')\n",
    "plt.plot(testing_loss_list[0], c = 'blue', label = 'test loss')\n",
    "plt.legend(loc = 'upper right')\n",
    "plt.show()\n",
    "\n",
    "plt.suptitle(\"Batch Size = {}\".format(batch_sizes[0]))\n",
    "plt.title(\"accuracy\")\n",
    "plt.plot(training_acc_list[0], c = 'red', label = 'train accuracy')\n",
    "plt.plot(testing_acc_list[0], c = 'blue', label = 'test accuracy')\n",
    "plt.legend(loc = 'lower right')\n",
    "plt.show()"
   ]
  },
  {
   "cell_type": "code",
   "execution_count": null,
   "metadata": {
    "colab": {
     "base_uri": "https://localhost:8080/"
    },
    "executionInfo": {
     "elapsed": 2283904,
     "status": "ok",
     "timestamp": 1605590957585,
     "user": {
      "displayName": "장예솔",
      "photoUrl": "",
      "userId": "10358588701743689220"
     },
     "user_tz": -540
    },
    "id": "pFB5UU84w8eo",
    "outputId": "f5c41b51-c680-42e9-fa6d-dd4c04ee635f"
   },
   "outputs": [
    {
     "name": "stdout",
     "output_type": "stream",
     "text": [
      "=================== batch size is 64 ===================\n",
      "epoch :  0  --------------------------------- \n",
      "loss :  2.23\n",
      "accuracy :  0.29\n",
      "epoch :  20  --------------------------------- \n",
      "loss :  0.236\n",
      "accuracy :  0.931\n",
      "epoch :  40  --------------------------------- \n",
      "loss :  0.143\n",
      "accuracy :  0.958\n",
      "epoch :  60  --------------------------------- \n",
      "loss :  0.096\n",
      "accuracy :  0.973\n",
      "epoch :  80  --------------------------------- \n",
      "loss :  0.067\n",
      "accuracy :  0.981\n",
      "epoch :  100  --------------------------------- \n",
      "loss :  0.049\n",
      "accuracy :  0.987\n",
      "epoch :  120  --------------------------------- \n",
      "loss :  0.036\n",
      "accuracy :  0.992\n",
      "epoch :  140  --------------------------------- \n",
      "loss :  0.027\n",
      "accuracy :  0.994\n",
      "epoch :  160  --------------------------------- \n",
      "loss :  0.02\n",
      "accuracy :  0.996\n",
      "epoch :  180  --------------------------------- \n",
      "loss :  0.015\n",
      "accuracy :  0.998\n"
     ]
    }
   ],
   "source": [
    "# Training Data Batch Size 64\n",
    "print(\"=================== batch size is 64 ===================\")\n",
    "loss_list, acc_list = gradient_descent(training_set, 64, 0.015, 200)\n",
    "training_loss_list[1] = loss_list\n",
    "training_acc_list[1] = acc_list"
   ]
  },
  {
   "cell_type": "code",
   "execution_count": null,
   "metadata": {
    "colab": {
     "base_uri": "https://localhost:8080/"
    },
    "executionInfo": {
     "elapsed": 338428,
     "status": "ok",
     "timestamp": 1605596480343,
     "user": {
      "displayName": "장예솔",
      "photoUrl": "",
      "userId": "10358588701743689220"
     },
     "user_tz": -540
    },
    "id": "Ayh1siBsfAmv",
    "outputId": "5e4d32d2-9e7f-4153-c27c-f839dbcd9ea7"
   },
   "outputs": [
    {
     "name": "stdout",
     "output_type": "stream",
     "text": [
      "=================== batch size is 64 ===================\n",
      "epoch :  0  --------------------------------- \n",
      "loss :  2.287\n",
      "accuracy :  0.135\n",
      "epoch :  20  --------------------------------- \n",
      "loss :  0.363\n",
      "accuracy :  0.898\n",
      "epoch :  40  --------------------------------- \n",
      "loss :  0.244\n",
      "accuracy :  0.93\n",
      "epoch :  60  --------------------------------- \n",
      "loss :  0.183\n",
      "accuracy :  0.947\n",
      "epoch :  80  --------------------------------- \n",
      "loss :  0.137\n",
      "accuracy :  0.963\n",
      "epoch :  100  --------------------------------- \n",
      "loss :  0.102\n",
      "accuracy :  0.974\n",
      "epoch :  120  --------------------------------- \n",
      "loss :  0.075\n",
      "accuracy :  0.982\n",
      "epoch :  140  --------------------------------- \n",
      "loss :  0.056\n",
      "accuracy :  0.989\n",
      "epoch :  160  --------------------------------- \n",
      "loss :  0.042\n",
      "accuracy :  0.993\n",
      "epoch :  180  --------------------------------- \n",
      "loss :  0.031\n",
      "accuracy :  0.995\n"
     ]
    }
   ],
   "source": [
    "# Testing Data Batch Size 64\n",
    "print(\"=================== batch size is 64 ===================\")\n",
    "loss_list, acc_list = gradient_descent(testing_set, 64, 0.015, 200)\n",
    "testing_loss_list[1] = loss_list\n",
    "testing_acc_list[1] = acc_list"
   ]
  },
  {
   "cell_type": "code",
   "execution_count": 29,
   "metadata": {
    "colab": {
     "base_uri": "https://localhost:8080/"
    },
    "executionInfo": {
     "elapsed": 3399992,
     "status": "ok",
     "timestamp": 1605612946244,
     "user": {
      "displayName": "장예솔",
      "photoUrl": "",
      "userId": "10358588701743689220"
     },
     "user_tz": -540
    },
    "id": "GdKFfdfuyBA_",
    "outputId": "04ce47e6-28a9-4a5f-ab78-472a1e93cf3c"
   },
   "outputs": [
    {
     "name": "stdout",
     "output_type": "stream",
     "text": [
      "=================== batch size is 128 ===================\n",
      "epoch :  0  --------------------------------- \n",
      "loss :  2.238\n",
      "accuracy :  0.266\n",
      "epoch :  20  --------------------------------- \n",
      "loss :  0.236\n",
      "accuracy :  0.931\n",
      "epoch :  40  --------------------------------- \n",
      "loss :  0.143\n",
      "accuracy :  0.959\n",
      "epoch :  60  --------------------------------- \n",
      "loss :  0.096\n",
      "accuracy :  0.973\n",
      "epoch :  80  --------------------------------- \n",
      "loss :  0.068\n",
      "accuracy :  0.982\n",
      "epoch :  100  --------------------------------- \n",
      "loss :  0.049\n",
      "accuracy :  0.987\n",
      "epoch :  120  --------------------------------- \n",
      "loss :  0.036\n",
      "accuracy :  0.991\n",
      "epoch :  140  --------------------------------- \n",
      "loss :  0.027\n",
      "accuracy :  0.994\n",
      "epoch :  160  --------------------------------- \n",
      "loss :  0.02\n",
      "accuracy :  0.997\n",
      "epoch :  180  --------------------------------- \n",
      "loss :  0.015\n",
      "accuracy :  0.998\n",
      "epoch :  200  --------------------------------- \n",
      "loss :  0.012\n",
      "accuracy :  0.998\n",
      "epoch :  220  --------------------------------- \n",
      "loss :  0.009\n",
      "accuracy :  0.999\n",
      "epoch :  240  --------------------------------- \n",
      "loss :  0.008\n",
      "accuracy :  0.999\n",
      "epoch :  260  --------------------------------- \n",
      "loss :  0.006\n",
      "accuracy :  0.999\n",
      "epoch :  280  --------------------------------- \n",
      "loss :  0.005\n",
      "accuracy :  0.999\n"
     ]
    }
   ],
   "source": [
    "# Training Data Batch Size 128\n",
    "print(\"=================== batch size is 128 ===================\")\n",
    "loss_list, acc_list = gradient_descent(training_set, 128, 0.015, 300)\n",
    "training_loss_list[2] = loss_list\n",
    "training_acc_list[2] = acc_list"
   ]
  },
  {
   "cell_type": "code",
   "execution_count": 30,
   "metadata": {
    "colab": {
     "base_uri": "https://localhost:8080/"
    },
    "executionInfo": {
     "elapsed": 462632,
     "status": "ok",
     "timestamp": 1605613408902,
     "user": {
      "displayName": "장예솔",
      "photoUrl": "",
      "userId": "10358588701743689220"
     },
     "user_tz": -540
    },
    "id": "_3BKChBjfK3y",
    "outputId": "fe9a8979-0fc0-4053-b463-e68752d13f39"
   },
   "outputs": [
    {
     "name": "stdout",
     "output_type": "stream",
     "text": [
      "=================== batch size is 128 ===================\n",
      "epoch :  0  --------------------------------- \n",
      "loss :  2.294\n",
      "accuracy :  0.126\n",
      "epoch :  20  --------------------------------- \n",
      "loss :  0.65\n",
      "accuracy :  0.836\n",
      "epoch :  40  --------------------------------- \n",
      "loss :  0.366\n",
      "accuracy :  0.899\n",
      "epoch :  60  --------------------------------- \n",
      "loss :  0.287\n",
      "accuracy :  0.919\n",
      "epoch :  80  --------------------------------- \n",
      "loss :  0.243\n",
      "accuracy :  0.93\n",
      "epoch :  100  --------------------------------- \n",
      "loss :  0.21\n",
      "accuracy :  0.939\n",
      "epoch :  120  --------------------------------- \n",
      "loss :  0.182\n",
      "accuracy :  0.949\n",
      "epoch :  140  --------------------------------- \n",
      "loss :  0.157\n",
      "accuracy :  0.957\n",
      "epoch :  160  --------------------------------- \n",
      "loss :  0.136\n",
      "accuracy :  0.963\n",
      "epoch :  180  --------------------------------- \n",
      "loss :  0.118\n",
      "accuracy :  0.968\n",
      "epoch :  200  --------------------------------- \n",
      "loss :  0.102\n",
      "accuracy :  0.974\n",
      "epoch :  220  --------------------------------- \n",
      "loss :  0.088\n",
      "accuracy :  0.979\n",
      "epoch :  240  --------------------------------- \n",
      "loss :  0.076\n",
      "accuracy :  0.982\n",
      "epoch :  260  --------------------------------- \n",
      "loss :  0.066\n",
      "accuracy :  0.985\n",
      "epoch :  280  --------------------------------- \n",
      "loss :  0.057\n",
      "accuracy :  0.988\n"
     ]
    }
   ],
   "source": [
    "# Testing Data Batch Size 128\n",
    "print(\"=================== batch size is 128 ===================\")\n",
    "loss_list, acc_list = gradient_descent(testing_set, 128, 0.015, 300)\n",
    "testing_loss_list[2] = loss_list\n",
    "testing_acc_list[2] = acc_list"
   ]
  },
  {
   "cell_type": "code",
   "execution_count": null,
   "metadata": {
    "colab": {
     "base_uri": "https://localhost:8080/",
     "height": 571
    },
    "executionInfo": {
     "elapsed": 2490,
     "status": "ok",
     "timestamp": 1605598717849,
     "user": {
      "displayName": "장예솔",
      "photoUrl": "",
      "userId": "10358588701743689220"
     },
     "user_tz": -540
    },
    "id": "a8EUlUMmsxXu",
    "outputId": "bd0c7619-65fc-4458-dd2d-8a50c5ff6505"
   },
   "outputs": [
    {
     "data": {
      "image/png": "[encoded data removed]",
      "text/plain": [
       "<Figure size 432x288 with 1 Axes>"
      ]
     },
     "metadata": {
      "tags": []
     },
     "output_type": "display_data"
    },
    {
     "data": {
      "image/png": "[encoded data removed]",
      "text/plain": [
       "<Figure size 432x288 with 1 Axes>"
      ]
     },
     "metadata": {
      "tags": []
     },
     "output_type": "display_data"
    }
   ],
   "source": [
    "# Plot Batch Size 64\n",
    "plt.suptitle(\"Batch Size = {}\".format(batch_sizes[1]))\n",
    "plt.title(\"loss\")\n",
    "plt.plot(training_loss_list[1], c = 'red', label = 'train loss')\n",
    "plt.plot(testing_loss_list[1], c = 'blue', label = 'test loss')\n",
    "plt.legend(loc = 'upper right')\n",
    "plt.show()\n",
    "\n",
    "plt.suptitle(\"Batch Size = {}\".format(batch_sizes[1]))\n",
    "plt.title(\"accuracy\")\n",
    "plt.plot(training_acc_list[1], c = 'red', label = 'train accuracy')\n",
    "plt.plot(testing_acc_list[1], c = 'blue', label = 'test accuracy')\n",
    "plt.legend(loc = 'lower right')\n",
    "plt.show()"
   ]
  },
  {
   "cell_type": "code",
   "execution_count": 54,
   "metadata": {
    "colab": {
     "base_uri": "https://localhost:8080/",
     "height": 571
    },
    "executionInfo": {
     "elapsed": 1105,
     "status": "ok",
     "timestamp": 1605614095839,
     "user": {
      "displayName": "장예솔",
      "photoUrl": "",
      "userId": "10358588701743689220"
     },
     "user_tz": -540
    },
    "id": "qYOPzrkAkKdu",
    "outputId": "efe11824-405b-4752-8683-e617783362b1"
   },
   "outputs": [
    {
     "data": {
      "image/png": "[encoded data removed]",
      "text/plain": [
       "<Figure size 432x288 with 1 Axes>"
      ]
     },
     "metadata": {
      "needs_background": "light",
      "tags": []
     },
     "output_type": "display_data"
    },
    {
     "data": {
      "image/png": "[encoded data removed]",
      "text/plain": [
       "<Figure size 432x288 with 1 Axes>"
      ]
     },
     "metadata": {
      "needs_background": "light",
      "tags": []
     },
     "output_type": "display_data"
    }
   ],
   "source": [
    "# Plot Batch Size 128\n",
    "plt.suptitle(\"Batch Size = {}\".format(batch_sizes[2]))\n",
    "plt.title(\"loss\")\n",
    "plt.plot(training_loss_list[2], c = 'red', label = 'train loss')\n",
    "plt.plot(testing_loss_list[2], c = 'blue', label = 'test loss')\n",
    "plt.legend(loc = 'upper right')\n",
    "plt.show()\n",
    "\n",
    "plt.suptitle(\"Batch Size = {}\".format(batch_sizes[2]))\n",
    "plt.title(\"accuracy\")\n",
    "plt.plot(training_acc_list[2], c = 'red', label = 'train accuracy')\n",
    "plt.plot(testing_acc_list[2], c = 'blue', label = 'test accuracy')\n",
    "plt.legend(loc = 'lower right')\n",
    "plt.show()"
   ]
  },
  {
   "cell_type": "markdown",
   "metadata": {
    "id": "JpUbRU6AELg1"
   },
   "source": [
    "# 7. Output\n",
    "\n",
    "<hr>"
   ]
  },
  {
   "cell_type": "markdown",
   "metadata": {
    "id": "26TmnSFOEQqU"
   },
   "source": [
    "1.Plot the training and testing losses with a batch size of 32 [4pt]"
   ]
  },
  {
   "cell_type": "code",
   "execution_count": 55,
   "metadata": {
    "colab": {
     "base_uri": "https://localhost:8080/",
     "height": 294
    },
    "executionInfo": {
     "elapsed": 934,
     "status": "ok",
     "timestamp": 1605614349926,
     "user": {
      "displayName": "장예솔",
      "photoUrl": "",
      "userId": "10358588701743689220"
     },
     "user_tz": -540
    },
    "id": "pIuGyJgwCede",
    "outputId": "7ca2eec4-00b6-4aff-e2cf-b7ac60127a7a"
   },
   "outputs": [
    {
     "data": {
      "image/png": "[encoded data removed]",
      "text/plain": [
       "<Figure size 432x288 with 1 Axes>"
      ]
     },
     "metadata": {
      "needs_background": "light",
      "tags": []
     },
     "output_type": "display_data"
    }
   ],
   "source": [
    "# Plot Batch Size 32\n",
    "plt.suptitle(\"Batch Size = {}\".format(batch_sizes[0]))\n",
    "plt.title(\"loss\")\n",
    "plt.plot(training_loss_list[0], c = 'red', label = 'train loss')\n",
    "plt.plot(testing_loss_list[0], c = 'blue', label = 'test loss')\n",
    "plt.legend(loc = 'upper right')\n",
    "plt.show()"
   ]
  },
  {
   "cell_type": "markdown",
   "metadata": {
    "id": "Pdg1wOLiEYVy"
   },
   "source": [
    "2.Plot the training and testing accuracies with a batch size of 32 [4pt]"
   ]
  },
  {
   "cell_type": "code",
   "execution_count": 56,
   "metadata": {
    "colab": {
     "base_uri": "https://localhost:8080/",
     "height": 294
    },
    "executionInfo": {
     "elapsed": 1287,
     "status": "ok",
     "timestamp": 1605614374163,
     "user": {
      "displayName": "장예솔",
      "photoUrl": "",
      "userId": "10358588701743689220"
     },
     "user_tz": -540
    },
    "id": "YoPMngHpEZpV",
    "outputId": "048a4372-f733-40c4-9cdb-991503755d40"
   },
   "outputs": [
    {
     "data": {
      "image/png": "[encoded data removed]",
      "text/plain": [
       "<Figure size 432x288 with 1 Axes>"
      ]
     },
     "metadata": {
      "needs_background": "light",
      "tags": []
     },
     "output_type": "display_data"
    }
   ],
   "source": [
    "plt.suptitle(\"Batch Size = {}\".format(batch_sizes[0]))\n",
    "plt.title(\"accuracy\")\n",
    "plt.plot(training_acc_list[0], c = 'red', label = 'train accuracy')\n",
    "plt.plot(testing_acc_list[0], c = 'blue', label = 'test accuracy')\n",
    "plt.legend(loc = 'lower right')\n",
    "plt.show()"
   ]
  },
  {
   "cell_type": "markdown",
   "metadata": {
    "id": "fmoMuQnxEaEZ"
   },
   "source": [
    "3.Plot the training and testing losses with a batch size of 64 [4pt]"
   ]
  },
  {
   "cell_type": "code",
   "execution_count": 57,
   "metadata": {
    "colab": {
     "base_uri": "https://localhost:8080/",
     "height": 294
    },
    "executionInfo": {
     "elapsed": 1007,
     "status": "ok",
     "timestamp": 1605614443342,
     "user": {
      "displayName": "장예솔",
      "photoUrl": "",
      "userId": "10358588701743689220"
     },
     "user_tz": -540
    },
    "id": "0u_GKFifEbdP",
    "outputId": "813398c5-d952-4f04-8dc7-2db5decd984d"
   },
   "outputs": [
    {
     "data": {
      "image/png": "[encoded data removed]",
      "text/plain": [
       "<Figure size 432x288 with 1 Axes>"
      ]
     },
     "metadata": {
      "needs_background": "light",
      "tags": []
     },
     "output_type": "display_data"
    }
   ],
   "source": [
    "# Plot Batch Size 64\n",
    "plt.suptitle(\"Batch Size = {}\".format(batch_sizes[1]))\n",
    "plt.title(\"loss\")\n",
    "plt.plot(training_loss_list[1], c = 'red', label = 'train loss')\n",
    "plt.plot(testing_loss_list[1], c = 'blue', label = 'test loss')\n",
    "plt.legend(loc = 'upper right')\n",
    "plt.show()"
   ]
  },
  {
   "cell_type": "markdown",
   "metadata": {
    "id": "6f1wpGQ1EcbQ"
   },
   "source": [
    "4.Plot the training and testing accuracies with a batch size of 64 [4pt]"
   ]
  },
  {
   "cell_type": "code",
   "execution_count": 58,
   "metadata": {
    "colab": {
     "base_uri": "https://localhost:8080/",
     "height": 294
    },
    "executionInfo": {
     "elapsed": 1417,
     "status": "ok",
     "timestamp": 1605614448713,
     "user": {
      "displayName": "장예솔",
      "photoUrl": "",
      "userId": "10358588701743689220"
     },
     "user_tz": -540
    },
    "id": "4SBJ-GfREdjt",
    "outputId": "1f4353e8-22b1-4e0b-fab0-487677d90e79"
   },
   "outputs": [
    {
     "data": {
      "image/png": "[encoded data removed]",
      "text/plain": [
       "<Figure size 432x288 with 1 Axes>"
      ]
     },
     "metadata": {
      "needs_background": "light",
      "tags": []
     },
     "output_type": "display_data"
    }
   ],
   "source": [
    "plt.suptitle(\"Batch Size = {}\".format(batch_sizes[1]))\n",
    "plt.title(\"accuracy\")\n",
    "plt.plot(training_acc_list[1], c = 'red', label = 'train accuracy')\n",
    "plt.plot(testing_acc_list[1], c = 'blue', label = 'test accuracy')\n",
    "plt.legend(loc = 'lower right')\n",
    "plt.show()"
   ]
  },
  {
   "cell_type": "markdown",
   "metadata": {
    "id": "HOqgAWdSEd6C"
   },
   "source": [
    "5.Plot the training and testing losses with a batch size of 128 [4pt]"
   ]
  },
  {
   "cell_type": "code",
   "execution_count": 59,
   "metadata": {
    "colab": {
     "base_uri": "https://localhost:8080/",
     "height": 294
    },
    "executionInfo": {
     "elapsed": 871,
     "status": "ok",
     "timestamp": 1605614452192,
     "user": {
      "displayName": "장예솔",
      "photoUrl": "",
      "userId": "10358588701743689220"
     },
     "user_tz": -540
    },
    "id": "haiWNobbEe3X",
    "outputId": "0dbe3263-d131-4485-cfb3-3b8af67f7d91"
   },
   "outputs": [
    {
     "data": {
      "image/png": "[encoded data removed]",
      "text/plain": [
       "<Figure size 432x288 with 1 Axes>"
      ]
     },
     "metadata": {
      "needs_background": "light",
      "tags": []
     },
     "output_type": "display_data"
    }
   ],
   "source": [
    "# Plot Batch Size 128\n",
    "plt.suptitle(\"Batch Size = {}\".format(batch_sizes[2]))\n",
    "plt.title(\"loss\")\n",
    "plt.plot(training_loss_list[2], c = 'red', label = 'train loss')\n",
    "plt.plot(testing_loss_list[2], c = 'blue', label = 'test loss')\n",
    "plt.legend(loc = 'upper right')\n",
    "plt.show()"
   ]
  },
  {
   "cell_type": "markdown",
   "metadata": {
    "id": "Wa8mxh2pEfNh"
   },
   "source": [
    "6.Plot the training and testing accuracies with a batch size of 128 [4pt]"
   ]
  },
  {
   "cell_type": "code",
   "execution_count": 60,
   "metadata": {
    "colab": {
     "base_uri": "https://localhost:8080/",
     "height": 294
    },
    "executionInfo": {
     "elapsed": 1352,
     "status": "ok",
     "timestamp": 1605614456503,
     "user": {
      "displayName": "장예솔",
      "photoUrl": "",
      "userId": "10358588701743689220"
     },
     "user_tz": -540
    },
    "id": "aQtM2dbREgRw",
    "outputId": "f6e35647-b46a-4d15-ebae-08b5c238b18b"
   },
   "outputs": [
    {
     "data": {
      "image/png": "[encoded data removed]",
      "text/plain": [
       "<Figure size 432x288 with 1 Axes>"
      ]
     },
     "metadata": {
      "needs_background": "light",
      "tags": []
     },
     "output_type": "display_data"
    }
   ],
   "source": [
    "plt.suptitle(\"Batch Size = {}\".format(batch_sizes[2]))\n",
    "plt.title(\"accuracy\")\n",
    "plt.plot(training_acc_list[2], c = 'red', label = 'train accuracy')\n",
    "plt.plot(testing_acc_list[2], c = 'blue', label = 'test accuracy')\n",
    "plt.legend(loc = 'lower right')\n",
    "plt.show()"
   ]
  },
  {
   "cell_type": "markdown",
   "metadata": {
    "id": "jvLrsuVfEgxq"
   },
   "source": [
    "7.Print the loss at convergence with different mini-batch sizes [3pt]"
   ]
  },
  {
   "cell_type": "code",
   "execution_count": 68,
   "metadata": {
    "colab": {
     "base_uri": "https://localhost:8080/",
     "height": 106
    },
    "executionInfo": {
     "elapsed": 959,
     "status": "ok",
     "timestamp": 1605615310223,
     "user": {
      "displayName": "장예솔",
      "photoUrl": "",
      "userId": "10358588701743689220"
     },
     "user_tz": -540
    },
    "id": "I-ORmrBWEhxY",
    "outputId": "b31ede0b-4654-40a7-c1c8-6815521641c5"
   },
   "outputs": [
    {
     "data": {
      "text/html": [
       "<div>\n",
       "<style scoped>\n",
       "    .dataframe tbody tr th:only-of-type {\n",
       "        vertical-align: middle;\n",
       "    }\n",
       "\n",
       "    .dataframe tbody tr th {\n",
       "        vertical-align: top;\n",
       "    }\n",
       "\n",
       "    .dataframe thead th {\n",
       "        text-align: right;\n",
       "    }\n",
       "</style>\n",
       "<table border=\"1\" class=\"dataframe\">\n",
       "  <thead>\n",
       "    <tr style=\"text-align: right;\">\n",
       "      <th>mini-batch size</th>\n",
       "      <th>32</th>\n",
       "      <th>64</th>\n",
       "      <th>128</th>\n",
       "    </tr>\n",
       "  </thead>\n",
       "  <tbody>\n",
       "    <tr>\n",
       "      <th>training loss</th>\n",
       "      <td>0.002</td>\n",
       "      <td>0.012</td>\n",
       "      <td>0.004</td>\n",
       "    </tr>\n",
       "    <tr>\n",
       "      <th>testing loss</th>\n",
       "      <td>0.024</td>\n",
       "      <td>0.024</td>\n",
       "      <td>0.057</td>\n",
       "    </tr>\n",
       "  </tbody>\n",
       "</table>\n",
       "</div>"
      ],
      "text/plain": [
       "mini-batch size     32     64    128\n",
       "training loss    0.002  0.012  0.004\n",
       "testing loss     0.024  0.024  0.057"
      ]
     },
     "execution_count": 68,
     "metadata": {
      "tags": []
     },
     "output_type": "execute_result"
    }
   ],
   "source": [
    "data1 = {'32' : [training_loss_list[0][-1], testing_loss_list[0][-1]],\n",
    "         '64' : [training_loss_list[1][-1], testing_loss_list[1][-1]],\n",
    "         '128' : [training_loss_list[2][-1], testing_loss_list[2][-1]]}\n",
    "index1 = ['training loss', 'testing loss']\n",
    "frame1 = DataFrame(data1, index = index1)\n",
    "frame1.columns.name = 'mini-batch size'\n",
    "frame1"
   ]
  },
  {
   "cell_type": "markdown",
   "metadata": {
    "id": "SpGE7WV4EiF5"
   },
   "source": [
    "8.Print the accuracy at convergence with different mini-batch sizes [3pt]"
   ]
  },
  {
   "cell_type": "code",
   "execution_count": 69,
   "metadata": {
    "colab": {
     "base_uri": "https://localhost:8080/",
     "height": 106
    },
    "executionInfo": {
     "elapsed": 1117,
     "status": "ok",
     "timestamp": 1605615436371,
     "user": {
      "displayName": "장예솔",
      "photoUrl": "",
      "userId": "10358588701743689220"
     },
     "user_tz": -540
    },
    "id": "pfeliQmmEjRD",
    "outputId": "49c03765-b8a9-46f9-9628-e6cf36702a2b"
   },
   "outputs": [
    {
     "data": {
      "text/html": [
       "<div>\n",
       "<style scoped>\n",
       "    .dataframe tbody tr th:only-of-type {\n",
       "        vertical-align: middle;\n",
       "    }\n",
       "\n",
       "    .dataframe tbody tr th {\n",
       "        vertical-align: top;\n",
       "    }\n",
       "\n",
       "    .dataframe thead th {\n",
       "        text-align: right;\n",
       "    }\n",
       "</style>\n",
       "<table border=\"1\" class=\"dataframe\">\n",
       "  <thead>\n",
       "    <tr style=\"text-align: right;\">\n",
       "      <th>mini-batch size</th>\n",
       "      <th>32</th>\n",
       "      <th>64</th>\n",
       "      <th>128</th>\n",
       "    </tr>\n",
       "  </thead>\n",
       "  <tbody>\n",
       "    <tr>\n",
       "      <th>training accuracy</th>\n",
       "      <td>0.999</td>\n",
       "      <td>0.998</td>\n",
       "      <td>0.999</td>\n",
       "    </tr>\n",
       "    <tr>\n",
       "      <th>testing accuracy</th>\n",
       "      <td>0.997</td>\n",
       "      <td>0.997</td>\n",
       "      <td>0.990</td>\n",
       "    </tr>\n",
       "  </tbody>\n",
       "</table>\n",
       "</div>"
      ],
      "text/plain": [
       "mini-batch size       32     64    128\n",
       "training accuracy  0.999  0.998  0.999\n",
       "testing accuracy   0.997  0.997  0.990"
      ]
     },
     "execution_count": 69,
     "metadata": {
      "tags": []
     },
     "output_type": "execute_result"
    }
   ],
   "source": [
    "data2 = {'32' : [training_acc_list[0][-1], testing_acc_list[0][-1]],\n",
    "         '64' : [training_acc_list[1][-1], testing_acc_list[1][-1]],\n",
    "         '128' : [training_acc_list[2][-1], testing_acc_list[2][-1]]}\n",
    "index2 = ['training accuracy', 'testing accuracy']\n",
    "frame2 = DataFrame(data2, index = index2)\n",
    "frame2.columns.name = 'mini-batch size'\n",
    "frame2"
   ]
  }
 ],
 "metadata": {
  "accelerator": "GPU",
  "colab": {
   "authorship_tag": "ABX9TyPSuvcHH+sXbZbQfteQkoRF",
   "collapsed_sections": [],
   "name": "Classification for Multiple Categories using Pytorch.ipynb",
   "provenance": [],
   "toc_visible": true
  },
  "kernelspec": {
   "display_name": "Python 3",
   "language": "python",
   "name": "python3"
  },
  "language_info": {
   "codemirror_mode": {
    "name": "ipython",
    "version": 3
   },
   "file_extension": ".py",
   "mimetype": "text/x-python",
   "name": "python",
   "nbconvert_exporter": "python",
   "pygments_lexer": "ipython3",
   "version": "3.8.5"
  },
  "widgets": {
   "application/vnd.jupyter.widget-state+json": {
    "01dad2d84ecc4b91bb3b22cf6eed2410": {
     "model_module": "@jupyter-widgets/controls",
     "model_name": "DescriptionStyleModel",
     "state": {
      "_model_module": "@jupyter-widgets/controls",
      "_model_module_version": "1.5.0",
      "_model_name": "DescriptionStyleModel",
      "_view_count": null,
      "_view_module": "@jupyter-widgets/base",
      "_view_module_version": "1.2.0",
      "_view_name": "StyleView",
      "description_width": ""
     }
    },
    "1198e2805c5a44c1a84d50fc28b54691": {
     "model_module": "@jupyter-widgets/base",
     "model_name": "LayoutModel",
     "state": {
      "_model_module": "@jupyter-widgets/base",
      "_model_module_version": "1.2.0",
      "_model_name": "LayoutModel",
      "_view_count": null,
      "_view_module": "@jupyter-widgets/base",
      "_view_module_version": "1.2.0",
      "_view_name": "LayoutView",
      "align_content": null,
      "align_items": null,
      "align_self": null,
      "border": null,
      "bottom": null,
      "display": null,
      "flex": null,
      "flex_flow": null,
      "grid_area": null,
      "grid_auto_columns": null,
      "grid_auto_flow": null,
      "grid_auto_rows": null,
      "grid_column": null,
      "grid_gap": null,
      "grid_row": null,
      "grid_template_areas": null,
      "grid_template_columns": null,
      "grid_template_rows": null,
      "height": null,
      "justify_content": null,
      "justify_items": null,
      "left": null,
      "margin": null,
      "max_height": null,
      "max_width": null,
      "min_height": null,
      "min_width": null,
      "object_fit": null,
      "object_position": null,
      "order": null,
      "overflow": null,
      "overflow_x": null,
      "overflow_y": null,
      "padding": null,
      "right": null,
      "top": null,
      "visibility": null,
      "width": null
     }
    },
    "1a9423bfb24d4efaa74c4a2d1eacdd23": {
     "model_module": "@jupyter-widgets/base",
     "model_name": "LayoutModel",
     "state": {
      "_model_module": "@jupyter-widgets/base",
      "_model_module_version": "1.2.0",
      "_model_name": "LayoutModel",
      "_view_count": null,
      "_view_module": "@jupyter-widgets/base",
      "_view_module_version": "1.2.0",
      "_view_name": "LayoutView",
      "align_content": null,
      "align_items": null,
      "align_self": null,
      "border": null,
      "bottom": null,
      "display": null,
      "flex": null,
      "flex_flow": null,
      "grid_area": null,
      "grid_auto_columns": null,
      "grid_auto_flow": null,
      "grid_auto_rows": null,
      "grid_column": null,
      "grid_gap": null,
      "grid_row": null,
      "grid_template_areas": null,
      "grid_template_columns": null,
      "grid_template_rows": null,
      "height": null,
      "justify_content": null,
      "justify_items": null,
      "left": null,
      "margin": null,
      "max_height": null,
      "max_width": null,
      "min_height": null,
      "min_width": null,
      "object_fit": null,
      "object_position": null,
      "order": null,
      "overflow": null,
      "overflow_x": null,
      "overflow_y": null,
      "padding": null,
      "right": null,
      "top": null,
      "visibility": null,
      "width": null
     }
    },
    "1b06f41937ce457898d372580d46546c": {
     "model_module": "@jupyter-widgets/controls",
     "model_name": "FloatProgressModel",
     "state": {
      "_dom_classes": [],
      "_model_module": "@jupyter-widgets/controls",
      "_model_module_version": "1.5.0",
      "_model_name": "FloatProgressModel",
      "_view_count": null,
      "_view_module": "@jupyter-widgets/controls",
      "_view_module_version": "1.5.0",
      "_view_name": "ProgressView",
      "bar_style": "info",
      "description": "",
      "description_tooltip": null,
      "layout": "IPY_MODEL_1a9423bfb24d4efaa74c4a2d1eacdd23",
      "max": 1,
      "min": 0,
      "orientation": "horizontal",
      "style": "IPY_MODEL_1cd0b98f0733490e86383fc2f8de1a31",
      "value": 1
     }
    },
    "1cd0b98f0733490e86383fc2f8de1a31": {
     "model_module": "@jupyter-widgets/controls",
     "model_name": "ProgressStyleModel",
     "state": {
      "_model_module": "@jupyter-widgets/controls",
      "_model_module_version": "1.5.0",
      "_model_name": "ProgressStyleModel",
      "_view_count": null,
      "_view_module": "@jupyter-widgets/base",
      "_view_module_version": "1.2.0",
      "_view_name": "StyleView",
      "bar_color": null,
      "description_width": "initial"
     }
    },
    "1d84af219d654b06934b6cb26c8f4530": {
     "model_module": "@jupyter-widgets/base",
     "model_name": "LayoutModel",
     "state": {
      "_model_module": "@jupyter-widgets/base",
      "_model_module_version": "1.2.0",
      "_model_name": "LayoutModel",
      "_view_count": null,
      "_view_module": "@jupyter-widgets/base",
      "_view_module_version": "1.2.0",
      "_view_name": "LayoutView",
      "align_content": null,
      "align_items": null,
      "align_self": null,
      "border": null,
      "bottom": null,
      "display": null,
      "flex": null,
      "flex_flow": null,
      "grid_area": null,
      "grid_auto_columns": null,
      "grid_auto_flow": null,
      "grid_auto_rows": null,
      "grid_column": null,
      "grid_gap": null,
      "grid_row": null,
      "grid_template_areas": null,
      "grid_template_columns": null,
      "grid_template_rows": null,
      "height": null,
      "justify_content": null,
      "justify_items": null,
      "left": null,
      "margin": null,
      "max_height": null,
      "max_width": null,
      "min_height": null,
      "min_width": null,
      "object_fit": null,
      "object_position": null,
      "order": null,
      "overflow": null,
      "overflow_x": null,
      "overflow_y": null,
      "padding": null,
      "right": null,
      "top": null,
      "visibility": null,
      "width": null
     }
    },
    "216e569dbbfc4e17b140fb967f2f7482": {
     "model_module": "@jupyter-widgets/base",
     "model_name": "LayoutModel",
     "state": {
      "_model_module": "@jupyter-widgets/base",
      "_model_module_version": "1.2.0",
      "_model_name": "LayoutModel",
      "_view_count": null,
      "_view_module": "@jupyter-widgets/base",
      "_view_module_version": "1.2.0",
      "_view_name": "LayoutView",
      "align_content": null,
      "align_items": null,
      "align_self": null,
      "border": null,
      "bottom": null,
      "display": null,
      "flex": null,
      "flex_flow": null,
      "grid_area": null,
      "grid_auto_columns": null,
      "grid_auto_flow": null,
      "grid_auto_rows": null,
      "grid_column": null,
      "grid_gap": null,
      "grid_row": null,
      "grid_template_areas": null,
      "grid_template_columns": null,
      "grid_template_rows": null,
      "height": null,
      "justify_content": null,
      "justify_items": null,
      "left": null,
      "margin": null,
      "max_height": null,
      "max_width": null,
      "min_height": null,
      "min_width": null,
      "object_fit": null,
      "object_position": null,
      "order": null,
      "overflow": null,
      "overflow_x": null,
      "overflow_y": null,
      "padding": null,
      "right": null,
      "top": null,
      "visibility": null,
      "width": null
     }
    },
    "2a253863558a4a65ac15ccd94e51b45c": {
     "model_module": "@jupyter-widgets/base",
     "model_name": "LayoutModel",
     "state": {
      "_model_module": "@jupyter-widgets/base",
      "_model_module_version": "1.2.0",
      "_model_name": "LayoutModel",
      "_view_count": null,
      "_view_module": "@jupyter-widgets/base",
      "_view_module_version": "1.2.0",
      "_view_name": "LayoutView",
      "align_content": null,
      "align_items": null,
      "align_self": null,
      "border": null,
      "bottom": null,
      "display": null,
      "flex": null,
      "flex_flow": null,
      "grid_area": null,
      "grid_auto_columns": null,
      "grid_auto_flow": null,
      "grid_auto_rows": null,
      "grid_column": null,
      "grid_gap": null,
      "grid_row": null,
      "grid_template_areas": null,
      "grid_template_columns": null,
      "grid_template_rows": null,
      "height": null,
      "justify_content": null,
      "justify_items": null,
      "left": null,
      "margin": null,
      "max_height": null,
      "max_width": null,
      "min_height": null,
      "min_width": null,
      "object_fit": null,
      "object_position": null,
      "order": null,
      "overflow": null,
      "overflow_x": null,
      "overflow_y": null,
      "padding": null,
      "right": null,
      "top": null,
      "visibility": null,
      "width": null
     }
    },
    "3b89cb82aef04bbca3cd1bf99e49c5d0": {
     "model_module": "@jupyter-widgets/controls",
     "model_name": "ProgressStyleModel",
     "state": {
      "_model_module": "@jupyter-widgets/controls",
      "_model_module_version": "1.5.0",
      "_model_name": "ProgressStyleModel",
      "_view_count": null,
      "_view_module": "@jupyter-widgets/base",
      "_view_module_version": "1.2.0",
      "_view_name": "StyleView",
      "bar_color": null,
      "description_width": "initial"
     }
    },
    "3e0e0386835a4b74a7832cd1eed59d23": {
     "model_module": "@jupyter-widgets/base",
     "model_name": "LayoutModel",
     "state": {
      "_model_module": "@jupyter-widgets/base",
      "_model_module_version": "1.2.0",
      "_model_name": "LayoutModel",
      "_view_count": null,
      "_view_module": "@jupyter-widgets/base",
      "_view_module_version": "1.2.0",
      "_view_name": "LayoutView",
      "align_content": null,
      "align_items": null,
      "align_self": null,
      "border": null,
      "bottom": null,
      "display": null,
      "flex": null,
      "flex_flow": null,
      "grid_area": null,
      "grid_auto_columns": null,
      "grid_auto_flow": null,
      "grid_auto_rows": null,
      "grid_column": null,
      "grid_gap": null,
      "grid_row": null,
      "grid_template_areas": null,
      "grid_template_columns": null,
      "grid_template_rows": null,
      "height": null,
      "justify_content": null,
      "justify_items": null,
      "left": null,
      "margin": null,
      "max_height": null,
      "max_width": null,
      "min_height": null,
      "min_width": null,
      "object_fit": null,
      "object_position": null,
      "order": null,
      "overflow": null,
      "overflow_x": null,
      "overflow_y": null,
      "padding": null,
      "right": null,
      "top": null,
      "visibility": null,
      "width": null
     }
    },
    "3e3bc573b0ab4ba0b1565beb4d8409c2": {
     "model_module": "@jupyter-widgets/controls",
     "model_name": "FloatProgressModel",
     "state": {
      "_dom_classes": [],
      "_model_module": "@jupyter-widgets/controls",
      "_model_module_version": "1.5.0",
      "_model_name": "FloatProgressModel",
      "_view_count": null,
      "_view_module": "@jupyter-widgets/controls",
      "_view_module_version": "1.5.0",
      "_view_name": "ProgressView",
      "bar_style": "success",
      "description": "",
      "description_tooltip": null,
      "layout": "IPY_MODEL_7e79553fc46b4b4fb7b78f80e5c889a9",
      "max": 1,
      "min": 0,
      "orientation": "horizontal",
      "style": "IPY_MODEL_b13b6f8685554166b98724ad6d7010b4",
      "value": 1
     }
    },
    "4192de06890442de9fde59b137f5c7f8": {
     "model_module": "@jupyter-widgets/controls",
     "model_name": "HBoxModel",
     "state": {
      "_dom_classes": [],
      "_model_module": "@jupyter-widgets/controls",
      "_model_module_version": "1.5.0",
      "_model_name": "HBoxModel",
      "_view_count": null,
      "_view_module": "@jupyter-widgets/controls",
      "_view_module_version": "1.5.0",
      "_view_name": "HBoxView",
      "box_style": "",
      "children": [
       "IPY_MODEL_8d5ddcddf09049a1bc90074aa95e2487",
       "IPY_MODEL_bca2f3f93e914e6f87810ed1f00445fa"
      ],
      "layout": "IPY_MODEL_1d84af219d654b06934b6cb26c8f4530"
     }
    },
    "45254697f8974315a2b324192ba0fe65": {
     "model_module": "@jupyter-widgets/controls",
     "model_name": "DescriptionStyleModel",
     "state": {
      "_model_module": "@jupyter-widgets/controls",
      "_model_module_version": "1.5.0",
      "_model_name": "DescriptionStyleModel",
      "_view_count": null,
      "_view_module": "@jupyter-widgets/base",
      "_view_module_version": "1.2.0",
      "_view_name": "StyleView",
      "description_width": ""
     }
    },
    "4dd0e2bbc3164f838c2bddf6f4ed93b2": {
     "model_module": "@jupyter-widgets/controls",
     "model_name": "HTMLModel",
     "state": {
      "_dom_classes": [],
      "_model_module": "@jupyter-widgets/controls",
      "_model_module_version": "1.5.0",
      "_model_name": "HTMLModel",
      "_view_count": null,
      "_view_module": "@jupyter-widgets/controls",
      "_view_module_version": "1.5.0",
      "_view_name": "HTMLView",
      "description": "",
      "description_tooltip": null,
      "layout": "IPY_MODEL_8f9e911b209a4434aea3491db3bc1fb7",
      "placeholder": "​",
      "style": "IPY_MODEL_c4e6e3f1d8864b2abef43d72a06318d6",
      "value": " 32768/? [00:00&lt;00:00, 396186.14it/s]"
     }
    },
    "5d001a39e52844dca984f0584c52a344": {
     "model_module": "@jupyter-widgets/controls",
     "model_name": "HTMLModel",
     "state": {
      "_dom_classes": [],
      "_model_module": "@jupyter-widgets/controls",
      "_model_module_version": "1.5.0",
      "_model_name": "HTMLModel",
      "_view_count": null,
      "_view_module": "@jupyter-widgets/controls",
      "_view_module_version": "1.5.0",
      "_view_name": "HTMLView",
      "description": "",
      "description_tooltip": null,
      "layout": "IPY_MODEL_2a253863558a4a65ac15ccd94e51b45c",
      "placeholder": "​",
      "style": "IPY_MODEL_b7dc9284ac444a4ab2b8d199e3888316",
      "value": " 8192/? [00:07&lt;00:00, 1162.80it/s]"
     }
    },
    "74d7b5be56e4463fb78e6be8a5d78d74": {
     "model_module": "@jupyter-widgets/controls",
     "model_name": "HBoxModel",
     "state": {
      "_dom_classes": [],
      "_model_module": "@jupyter-widgets/controls",
      "_model_module_version": "1.5.0",
      "_model_name": "HBoxModel",
      "_view_count": null,
      "_view_module": "@jupyter-widgets/controls",
      "_view_module_version": "1.5.0",
      "_view_name": "HBoxView",
      "box_style": "",
      "children": [
       "IPY_MODEL_e3b569edc3b8452e889b0bdd0256059d",
       "IPY_MODEL_4dd0e2bbc3164f838c2bddf6f4ed93b2"
      ],
      "layout": "IPY_MODEL_3e0e0386835a4b74a7832cd1eed59d23"
     }
    },
    "7e79553fc46b4b4fb7b78f80e5c889a9": {
     "model_module": "@jupyter-widgets/base",
     "model_name": "LayoutModel",
     "state": {
      "_model_module": "@jupyter-widgets/base",
      "_model_module_version": "1.2.0",
      "_model_name": "LayoutModel",
      "_view_count": null,
      "_view_module": "@jupyter-widgets/base",
      "_view_module_version": "1.2.0",
      "_view_name": "LayoutView",
      "align_content": null,
      "align_items": null,
      "align_self": null,
      "border": null,
      "bottom": null,
      "display": null,
      "flex": null,
      "flex_flow": null,
      "grid_area": null,
      "grid_auto_columns": null,
      "grid_auto_flow": null,
      "grid_auto_rows": null,
      "grid_column": null,
      "grid_gap": null,
      "grid_row": null,
      "grid_template_areas": null,
      "grid_template_columns": null,
      "grid_template_rows": null,
      "height": null,
      "justify_content": null,
      "justify_items": null,
      "left": null,
      "margin": null,
      "max_height": null,
      "max_width": null,
      "min_height": null,
      "min_width": null,
      "object_fit": null,
      "object_position": null,
      "order": null,
      "overflow": null,
      "overflow_x": null,
      "overflow_y": null,
      "padding": null,
      "right": null,
      "top": null,
      "visibility": null,
      "width": null
     }
    },
    "851b2f01890a4ead97622ab881d0672e": {
     "model_module": "@jupyter-widgets/controls",
     "model_name": "HBoxModel",
     "state": {
      "_dom_classes": [],
      "_model_module": "@jupyter-widgets/controls",
      "_model_module_version": "1.5.0",
      "_model_name": "HBoxModel",
      "_view_count": null,
      "_view_module": "@jupyter-widgets/controls",
      "_view_module_version": "1.5.0",
      "_view_name": "HBoxView",
      "box_style": "",
      "children": [
       "IPY_MODEL_3e3bc573b0ab4ba0b1565beb4d8409c2",
       "IPY_MODEL_5d001a39e52844dca984f0584c52a344"
      ],
      "layout": "IPY_MODEL_89426f113cad461eb5ce5cf6aeb3904e"
     }
    },
    "89426f113cad461eb5ce5cf6aeb3904e": {
     "model_module": "@jupyter-widgets/base",
     "model_name": "LayoutModel",
     "state": {
      "_model_module": "@jupyter-widgets/base",
      "_model_module_version": "1.2.0",
      "_model_name": "LayoutModel",
      "_view_count": null,
      "_view_module": "@jupyter-widgets/base",
      "_view_module_version": "1.2.0",
      "_view_name": "LayoutView",
      "align_content": null,
      "align_items": null,
      "align_self": null,
      "border": null,
      "bottom": null,
      "display": null,
      "flex": null,
      "flex_flow": null,
      "grid_area": null,
      "grid_auto_columns": null,
      "grid_auto_flow": null,
      "grid_auto_rows": null,
      "grid_column": null,
      "grid_gap": null,
      "grid_row": null,
      "grid_template_areas": null,
      "grid_template_columns": null,
      "grid_template_rows": null,
      "height": null,
      "justify_content": null,
      "justify_items": null,
      "left": null,
      "margin": null,
      "max_height": null,
      "max_width": null,
      "min_height": null,
      "min_width": null,
      "object_fit": null,
      "object_position": null,
      "order": null,
      "overflow": null,
      "overflow_x": null,
      "overflow_y": null,
      "padding": null,
      "right": null,
      "top": null,
      "visibility": null,
      "width": null
     }
    },
    "8a153db490ea420f8e9eec985cf6fecc": {
     "model_module": "@jupyter-widgets/controls",
     "model_name": "ProgressStyleModel",
     "state": {
      "_model_module": "@jupyter-widgets/controls",
      "_model_module_version": "1.5.0",
      "_model_name": "ProgressStyleModel",
      "_view_count": null,
      "_view_module": "@jupyter-widgets/base",
      "_view_module_version": "1.2.0",
      "_view_name": "StyleView",
      "bar_color": null,
      "description_width": "initial"
     }
    },
    "8d5ddcddf09049a1bc90074aa95e2487": {
     "model_module": "@jupyter-widgets/controls",
     "model_name": "FloatProgressModel",
     "state": {
      "_dom_classes": [],
      "_model_module": "@jupyter-widgets/controls",
      "_model_module_version": "1.5.0",
      "_model_name": "FloatProgressModel",
      "_view_count": null,
      "_view_module": "@jupyter-widgets/controls",
      "_view_module_version": "1.5.0",
      "_view_name": "ProgressView",
      "bar_style": "info",
      "description": "",
      "description_tooltip": null,
      "layout": "IPY_MODEL_1198e2805c5a44c1a84d50fc28b54691",
      "max": 1,
      "min": 0,
      "orientation": "horizontal",
      "style": "IPY_MODEL_8a153db490ea420f8e9eec985cf6fecc",
      "value": 1
     }
    },
    "8f9e911b209a4434aea3491db3bc1fb7": {
     "model_module": "@jupyter-widgets/base",
     "model_name": "LayoutModel",
     "state": {
      "_model_module": "@jupyter-widgets/base",
      "_model_module_version": "1.2.0",
      "_model_name": "LayoutModel",
      "_view_count": null,
      "_view_module": "@jupyter-widgets/base",
      "_view_module_version": "1.2.0",
      "_view_name": "LayoutView",
      "align_content": null,
      "align_items": null,
      "align_self": null,
      "border": null,
      "bottom": null,
      "display": null,
      "flex": null,
      "flex_flow": null,
      "grid_area": null,
      "grid_auto_columns": null,
      "grid_auto_flow": null,
      "grid_auto_rows": null,
      "grid_column": null,
      "grid_gap": null,
      "grid_row": null,
      "grid_template_areas": null,
      "grid_template_columns": null,
      "grid_template_rows": null,
      "height": null,
      "justify_content": null,
      "justify_items": null,
      "left": null,
      "margin": null,
      "max_height": null,
      "max_width": null,
      "min_height": null,
      "min_width": null,
      "object_fit": null,
      "object_position": null,
      "order": null,
      "overflow": null,
      "overflow_x": null,
      "overflow_y": null,
      "padding": null,
      "right": null,
      "top": null,
      "visibility": null,
      "width": null
     }
    },
    "9b110685719940b4a165758aead060ff": {
     "model_module": "@jupyter-widgets/controls",
     "model_name": "HBoxModel",
     "state": {
      "_dom_classes": [],
      "_model_module": "@jupyter-widgets/controls",
      "_model_module_version": "1.5.0",
      "_model_name": "HBoxModel",
      "_view_count": null,
      "_view_module": "@jupyter-widgets/controls",
      "_view_module_version": "1.5.0",
      "_view_name": "HBoxView",
      "box_style": "",
      "children": [
       "IPY_MODEL_1b06f41937ce457898d372580d46546c",
       "IPY_MODEL_c1da782c5bc24477bb1b14588a62f072"
      ],
      "layout": "IPY_MODEL_b5035cbef3404605813e625cd23a1f32"
     }
    },
    "b13b6f8685554166b98724ad6d7010b4": {
     "model_module": "@jupyter-widgets/controls",
     "model_name": "ProgressStyleModel",
     "state": {
      "_model_module": "@jupyter-widgets/controls",
      "_model_module_version": "1.5.0",
      "_model_name": "ProgressStyleModel",
      "_view_count": null,
      "_view_module": "@jupyter-widgets/base",
      "_view_module_version": "1.2.0",
      "_view_name": "StyleView",
      "bar_color": null,
      "description_width": "initial"
     }
    },
    "b5035cbef3404605813e625cd23a1f32": {
     "model_module": "@jupyter-widgets/base",
     "model_name": "LayoutModel",
     "state": {
      "_model_module": "@jupyter-widgets/base",
      "_model_module_version": "1.2.0",
      "_model_name": "LayoutModel",
      "_view_count": null,
      "_view_module": "@jupyter-widgets/base",
      "_view_module_version": "1.2.0",
      "_view_name": "LayoutView",
      "align_content": null,
      "align_items": null,
      "align_self": null,
      "border": null,
      "bottom": null,
      "display": null,
      "flex": null,
      "flex_flow": null,
      "grid_area": null,
      "grid_auto_columns": null,
      "grid_auto_flow": null,
      "grid_auto_rows": null,
      "grid_column": null,
      "grid_gap": null,
      "grid_row": null,
      "grid_template_areas": null,
      "grid_template_columns": null,
      "grid_template_rows": null,
      "height": null,
      "justify_content": null,
      "justify_items": null,
      "left": null,
      "margin": null,
      "max_height": null,
      "max_width": null,
      "min_height": null,
      "min_width": null,
      "object_fit": null,
      "object_position": null,
      "order": null,
      "overflow": null,
      "overflow_x": null,
      "overflow_y": null,
      "padding": null,
      "right": null,
      "top": null,
      "visibility": null,
      "width": null
     }
    },
    "b7dc9284ac444a4ab2b8d199e3888316": {
     "model_module": "@jupyter-widgets/controls",
     "model_name": "DescriptionStyleModel",
     "state": {
      "_model_module": "@jupyter-widgets/controls",
      "_model_module_version": "1.5.0",
      "_model_name": "DescriptionStyleModel",
      "_view_count": null,
      "_view_module": "@jupyter-widgets/base",
      "_view_module_version": "1.2.0",
      "_view_name": "StyleView",
      "description_width": ""
     }
    },
    "bca2f3f93e914e6f87810ed1f00445fa": {
     "model_module": "@jupyter-widgets/controls",
     "model_name": "HTMLModel",
     "state": {
      "_dom_classes": [],
      "_model_module": "@jupyter-widgets/controls",
      "_model_module_version": "1.5.0",
      "_model_name": "HTMLModel",
      "_view_count": null,
      "_view_module": "@jupyter-widgets/controls",
      "_view_module_version": "1.5.0",
      "_view_name": "HTMLView",
      "description": "",
      "description_tooltip": null,
      "layout": "IPY_MODEL_f0ca2f92ab1f48a19890ad83f1b8742e",
      "placeholder": "​",
      "style": "IPY_MODEL_45254697f8974315a2b324192ba0fe65",
      "value": " 9920512/? [00:20&lt;00:00, 51104402.46it/s]"
     }
    },
    "c1da782c5bc24477bb1b14588a62f072": {
     "model_module": "@jupyter-widgets/controls",
     "model_name": "HTMLModel",
     "state": {
      "_dom_classes": [],
      "_model_module": "@jupyter-widgets/controls",
      "_model_module_version": "1.5.0",
      "_model_name": "HTMLModel",
      "_view_count": null,
      "_view_module": "@jupyter-widgets/controls",
      "_view_module_version": "1.5.0",
      "_view_name": "HTMLView",
      "description": "",
      "description_tooltip": null,
      "layout": "IPY_MODEL_216e569dbbfc4e17b140fb967f2f7482",
      "placeholder": "​",
      "style": "IPY_MODEL_01dad2d84ecc4b91bb3b22cf6eed2410",
      "value": " 1654784/? [00:19&lt;00:00, 135130.92it/s]"
     }
    },
    "c4e6e3f1d8864b2abef43d72a06318d6": {
     "model_module": "@jupyter-widgets/controls",
     "model_name": "DescriptionStyleModel",
     "state": {
      "_model_module": "@jupyter-widgets/controls",
      "_model_module_version": "1.5.0",
      "_model_name": "DescriptionStyleModel",
      "_view_count": null,
      "_view_module": "@jupyter-widgets/base",
      "_view_module_version": "1.2.0",
      "_view_name": "StyleView",
      "description_width": ""
     }
    },
    "d2602be9199d49d4998333d3765cd5ab": {
     "model_module": "@jupyter-widgets/base",
     "model_name": "LayoutModel",
     "state": {
      "_model_module": "@jupyter-widgets/base",
      "_model_module_version": "1.2.0",
      "_model_name": "LayoutModel",
      "_view_count": null,
      "_view_module": "@jupyter-widgets/base",
      "_view_module_version": "1.2.0",
      "_view_name": "LayoutView",
      "align_content": null,
      "align_items": null,
      "align_self": null,
      "border": null,
      "bottom": null,
      "display": null,
      "flex": null,
      "flex_flow": null,
      "grid_area": null,
      "grid_auto_columns": null,
      "grid_auto_flow": null,
      "grid_auto_rows": null,
      "grid_column": null,
      "grid_gap": null,
      "grid_row": null,
      "grid_template_areas": null,
      "grid_template_columns": null,
      "grid_template_rows": null,
      "height": null,
      "justify_content": null,
      "justify_items": null,
      "left": null,
      "margin": null,
      "max_height": null,
      "max_width": null,
      "min_height": null,
      "min_width": null,
      "object_fit": null,
      "object_position": null,
      "order": null,
      "overflow": null,
      "overflow_x": null,
      "overflow_y": null,
      "padding": null,
      "right": null,
      "top": null,
      "visibility": null,
      "width": null
     }
    },
    "e3b569edc3b8452e889b0bdd0256059d": {
     "model_module": "@jupyter-widgets/controls",
     "model_name": "FloatProgressModel",
     "state": {
      "_dom_classes": [],
      "_model_module": "@jupyter-widgets/controls",
      "_model_module_version": "1.5.0",
      "_model_name": "FloatProgressModel",
      "_view_count": null,
      "_view_module": "@jupyter-widgets/controls",
      "_view_module_version": "1.5.0",
      "_view_name": "ProgressView",
      "bar_style": "success",
      "description": "",
      "description_tooltip": null,
      "layout": "IPY_MODEL_d2602be9199d49d4998333d3765cd5ab",
      "max": 1,
      "min": 0,
      "orientation": "horizontal",
      "style": "IPY_MODEL_3b89cb82aef04bbca3cd1bf99e49c5d0",
      "value": 1
     }
    },
    "f0ca2f92ab1f48a19890ad83f1b8742e": {
     "model_module": "@jupyter-widgets/base",
     "model_name": "LayoutModel",
     "state": {
      "_model_module": "@jupyter-widgets/base",
      "_model_module_version": "1.2.0",
      "_model_name": "LayoutModel",
      "_view_count": null,
      "_view_module": "@jupyter-widgets/base",
      "_view_module_version": "1.2.0",
      "_view_name": "LayoutView",
      "align_content": null,
      "align_items": null,
      "align_self": null,
      "border": null,
      "bottom": null,
      "display": null,
      "flex": null,
      "flex_flow": null,
      "grid_area": null,
      "grid_auto_columns": null,
      "grid_auto_flow": null,
      "grid_auto_rows": null,
      "grid_column": null,
      "grid_gap": null,
      "grid_row": null,
      "grid_template_areas": null,
      "grid_template_columns": null,
      "grid_template_rows": null,
      "height": null,
      "justify_content": null,
      "justify_items": null,
      "left": null,
      "margin": null,
      "max_height": null,
      "max_width": null,
      "min_height": null,
      "min_width": null,
      "object_fit": null,
      "object_position": null,
      "order": null,
      "overflow": null,
      "overflow_x": null,
      "overflow_y": null,
      "padding": null,
      "right": null,
      "top": null,
      "visibility": null,
      "width": null
     }
    }
   }
  }
 },
 "nbformat": 4,
 "nbformat_minor": 1
}
