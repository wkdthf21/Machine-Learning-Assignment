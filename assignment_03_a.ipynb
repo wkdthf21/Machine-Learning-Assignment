{
  "nbformat": 4,
  "nbformat_minor": 0,
  "metadata": {
    "kernelspec": {
      "display_name": "Python 3",
      "language": "python",
      "name": "python3"
    },
    "language_info": {
      "codemirror_mode": {
        "name": "ipython",
        "version": 3
      },
      "file_extension": ".py",
      "mimetype": "text/x-python",
      "name": "python",
      "nbconvert_exporter": "python",
      "pygments_lexer": "ipython3",
      "version": "3.6.8"
    },
    "colab": {
      "name": "assignment-03-a.ipynb",
      "provenance": [],
      "collapsed_sections": [],
      "include_colab_link": true
    }
  },
  "cells": [
    {
      "cell_type": "markdown",
      "metadata": {
        "id": "view-in-github",
        "colab_type": "text"
      },
      "source": [
        "<a href=\"https://colab.research.google.com/github/wkdthf21/Machine-Learning-Assignment/blob/master/assignment_03_a.ipynb\" target=\"_parent\"><img src=\"https://colab.research.google.com/assets/colab-badge.svg\" alt=\"Open In Colab\"/></a>"
      ]
    },
    {
      "cell_type": "markdown",
      "metadata": {
        "id": "IkJhMfo8k48R",
        "colab_type": "text"
      },
      "source": [
        "# Manipulate PyTorch Tensors\n",
        "<hr>\n",
        "\n",
        "## Matrix manipulation"
      ]
    },
    {
      "cell_type": "code",
      "metadata": {
        "id": "etEYikqdk48S",
        "colab_type": "code",
        "colab": {}
      },
      "source": [
        "import torch"
      ],
      "execution_count": 1,
      "outputs": []
    },
    {
      "cell_type": "markdown",
      "metadata": {
        "id": "zB2XkK2Ek48Z",
        "colab_type": "text"
      },
      "source": [
        "### Make the matrices A and B below. Add them together to obtain a matrix C. Print these three matrices.\n",
        "$$\n",
        "A =\\begin{bmatrix}\n",
        "1 & 2 \\\\ 3 & 4\n",
        "\\end{bmatrix}  \n",
        "\\qquad \n",
        "B =\\begin{bmatrix}\n",
        "10 & 20 \\\\ 30 & 40\n",
        "\\end{bmatrix}  \\qquad C=A+B =?\n",
        "$$"
      ]
    },
    {
      "cell_type": "code",
      "metadata": {
        "id": "StVc4I3Wk48a",
        "colab_type": "code",
        "colab": {
          "base_uri": "https://localhost:8080/",
          "height": 158
        },
        "outputId": "483271c9-6fd7-4744-a90a-68af96dbdd5b"
      },
      "source": [
        "\n",
        "# write your code here\n",
        "\n",
        "A = torch.tensor([[1, 2], [3, 4]])\n",
        "B = torch.tensor([[10, 20], [30, 40]])\n",
        "C = torch.add(A, B)\n",
        "\n",
        "\n",
        "# print\n",
        "print(A)\n",
        "print('')\n",
        "print(B)\n",
        "print('')\n",
        "print(C)"
      ],
      "execution_count": 4,
      "outputs": [
        {
          "output_type": "stream",
          "text": [
            "tensor([[1, 2],\n",
            "        [3, 4]])\n",
            "\n",
            "tensor([[10, 20],\n",
            "        [30, 40]])\n",
            "\n",
            "tensor([[11, 22],\n",
            "        [33, 44]])\n"
          ],
          "name": "stdout"
        }
      ]
    },
    {
      "cell_type": "markdown",
      "metadata": {
        "id": "_h0b2VGVk48e",
        "colab_type": "text"
      },
      "source": [
        "### Print the dimension, size and type of the matrix A. Remember, the commands are dim(), size() and type()"
      ]
    },
    {
      "cell_type": "code",
      "metadata": {
        "id": "YCCXve0Kk48f",
        "colab_type": "code",
        "colab": {
          "base_uri": "https://localhost:8080/",
          "height": 105
        },
        "outputId": "2af1bf76-725c-4b4a-decc-29e510ef1151"
      },
      "source": [
        "\n",
        "# write your code here\n",
        "\n",
        "print(A.dim())    # print the dimension of the matrix A\n",
        "print('')\n",
        "print(A.size())    # print the size of the matrix A\n",
        "print('')\n",
        "print(A.type())    # print the type of the matrix A"
      ],
      "execution_count": 20,
      "outputs": [
        {
          "output_type": "stream",
          "text": [
            "2\n",
            "\n",
            "torch.Size([2, 2])\n",
            "\n",
            "torch.LongTensor\n"
          ],
          "name": "stdout"
        }
      ]
    },
    {
      "cell_type": "markdown",
      "metadata": {
        "id": "7hUtC_nAk48j",
        "colab_type": "text"
      },
      "source": [
        "### Convert the matrix A to be an integer matrix  (type LongTensor). Remember, the command is long(). Then print the type to check it was indeed converted."
      ]
    },
    {
      "cell_type": "code",
      "metadata": {
        "id": "dDVbUv8Yk48j",
        "colab_type": "code",
        "colab": {
          "base_uri": "https://localhost:8080/",
          "height": 87
        },
        "outputId": "9a02f776-7712-4244-92b7-fe9cc33712d9"
      },
      "source": [
        "\n",
        "# write your code here\n",
        "\n",
        "A_long = A.long()\n",
        "\n",
        "print(A_long)    # print the type of A_long\n",
        "print('')\n",
        "print(A_long.type())    # print the type of A"
      ],
      "execution_count": 22,
      "outputs": [
        {
          "output_type": "stream",
          "text": [
            "tensor([[1, 2],\n",
            "        [3, 4]])\n",
            "\n",
            "torch.LongTensor\n"
          ],
          "name": "stdout"
        }
      ]
    },
    {
      "cell_type": "markdown",
      "metadata": {
        "id": "KCKNbTPsk48m",
        "colab_type": "text"
      },
      "source": [
        "### Make a random 5 x 2 x 3 Tensor. The command is torch.rand.  Then do the following:   1) Print the tensor,  2) Print its type, 3) Print its dimension,  4) Print its size, 5) Print the size of its middle dimension."
      ]
    },
    {
      "cell_type": "code",
      "metadata": {
        "id": "vCC0_mfJk48o",
        "colab_type": "code",
        "colab": {
          "base_uri": "https://localhost:8080/",
          "height": 334
        },
        "outputId": "55da0035-cdcf-4859-86e2-51df01d73a86"
      },
      "source": [
        "\n",
        "# write your code here\n",
        "\n",
        "A = torch.rand(5, 2, 3)\n",
        "\n",
        "print(A)\n",
        "print(A.type())    # print the type of A\n",
        "print(A.dim())    # print the dimension of A\n",
        "print(A.size())    # print the size of A\n",
        "print(A[1].size())    # print the size of the middle (second) dimension"
      ],
      "execution_count": 23,
      "outputs": [
        {
          "output_type": "stream",
          "text": [
            "tensor([[[0.0675, 0.2911, 0.8740],\n",
            "         [0.2870, 0.7351, 0.4896]],\n",
            "\n",
            "        [[0.4972, 0.3345, 0.6384],\n",
            "         [0.4494, 0.7999, 0.6875]],\n",
            "\n",
            "        [[0.6940, 0.7455, 0.2047],\n",
            "         [0.8472, 0.0257, 0.9212]],\n",
            "\n",
            "        [[0.7657, 0.8706, 0.5296],\n",
            "         [0.2669, 0.7012, 0.4710]],\n",
            "\n",
            "        [[0.1954, 0.8896, 0.0994],\n",
            "         [0.1199, 0.9856, 0.4272]]])\n",
            "torch.FloatTensor\n",
            "3\n",
            "torch.Size([5, 2, 3])\n",
            "torch.Size([2, 3])\n"
          ],
          "name": "stdout"
        }
      ]
    },
    {
      "cell_type": "markdown",
      "metadata": {
        "id": "N3c8AXMLk48s",
        "colab_type": "text"
      },
      "source": [
        "### Make 2 x 3 x 4 x 5 tensor filled with zeros then print it. (The command is torch.zeros). See if you can make sense of the display."
      ]
    },
    {
      "cell_type": "code",
      "metadata": {
        "id": "p19xMM9sk48v",
        "colab_type": "code",
        "colab": {
          "base_uri": "https://localhost:8080/",
          "height": 545
        },
        "outputId": "aef0a852-a1e6-4278-d2a2-893a6e3dbb04"
      },
      "source": [
        "\n",
        "# write your code here\n",
        "\n",
        "A = torch.zeros(2, 3, 4, 5)\n",
        "\n",
        "print(A)\n"
      ],
      "execution_count": 24,
      "outputs": [
        {
          "output_type": "stream",
          "text": [
            "tensor([[[[0., 0., 0., 0., 0.],\n",
            "          [0., 0., 0., 0., 0.],\n",
            "          [0., 0., 0., 0., 0.],\n",
            "          [0., 0., 0., 0., 0.]],\n",
            "\n",
            "         [[0., 0., 0., 0., 0.],\n",
            "          [0., 0., 0., 0., 0.],\n",
            "          [0., 0., 0., 0., 0.],\n",
            "          [0., 0., 0., 0., 0.]],\n",
            "\n",
            "         [[0., 0., 0., 0., 0.],\n",
            "          [0., 0., 0., 0., 0.],\n",
            "          [0., 0., 0., 0., 0.],\n",
            "          [0., 0., 0., 0., 0.]]],\n",
            "\n",
            "\n",
            "        [[[0., 0., 0., 0., 0.],\n",
            "          [0., 0., 0., 0., 0.],\n",
            "          [0., 0., 0., 0., 0.],\n",
            "          [0., 0., 0., 0., 0.]],\n",
            "\n",
            "         [[0., 0., 0., 0., 0.],\n",
            "          [0., 0., 0., 0., 0.],\n",
            "          [0., 0., 0., 0., 0.],\n",
            "          [0., 0., 0., 0., 0.]],\n",
            "\n",
            "         [[0., 0., 0., 0., 0.],\n",
            "          [0., 0., 0., 0., 0.],\n",
            "          [0., 0., 0., 0., 0.],\n",
            "          [0., 0., 0., 0., 0.]]]])\n"
          ],
          "name": "stdout"
        }
      ]
    }
  ]
}