{
 "cells": [
  {
   "cell_type": "markdown",
   "metadata": {},
   "source": [
    "## K-means clustering\n",
    "<hr>\n",
    "\n",
    "## 0. load the data from the files\n",
    "<hr>\n",
    "load the data from the files"
   ]
  },
  {
   "cell_type": "code",
   "execution_count": 3,
   "metadata": {},
   "outputs": [
    {
     "name": "stdout",
     "output_type": "stream",
     "text": [
      "(200, 2)\n"
     ]
    }
   ],
   "source": [
    "import numpy as np\n",
    "import matplotlib.pyplot as plt\n",
    "import pandas as pd\n",
    "\n",
    "dataset = pd.read_csv('data-kmeans.csv')\n",
    "data = dataset.values\n",
    "\n",
    "print(data.shape)"
   ]
  },
  {
   "cell_type": "markdown",
   "metadata": {},
   "source": [
    "## 1. define a function to compute a distance between two points aaa and bbb\n",
    "<hr>"
   ]
  },
  {
   "cell_type": "code",
   "execution_count": 30,
   "metadata": {},
   "outputs": [
    {
     "name": "stdout",
     "output_type": "stream",
     "text": [
      "29\n"
     ]
    }
   ],
   "source": [
    "def compute_distance(a, b):\n",
    "    \n",
    "    #distance between a and b#\n",
    "    dist = np.sum((a - b) ** 2)\n",
    "    return dist\n",
    "\n",
    "temp_a = np.array([0, 0]);\n",
    "temp_b = np.array([5, 2]);\n",
    "print(compute_distance(temp_a, temp_b));"
   ]
  },
  {
   "cell_type": "markdown",
   "metadata": {},
   "source": [
    "## 2. define a function to compute a centroid from a given set of points ZZZ\n",
    "<hr>"
   ]
  },
  {
   "cell_type": "code",
   "execution_count": 31,
   "metadata": {},
   "outputs": [],
   "source": [
    "def compute_centroid(Z):\n",
    "    \n",
    "    #centroid of a set of points in P#\n",
    "    center = sum(Z, 0.0) / len(Z)\n",
    "\n",
    "    return center\n"
   ]
  },
  {
   "cell_type": "markdown",
   "metadata": {},
   "source": [
    "## 3. define a function to determine the label of point zzz with a set of centroids MMM\n",
    "<hr>"
   ]
  },
  {
   "cell_type": "code",
   "execution_count": 32,
   "metadata": {},
   "outputs": [
    {
     "name": "stdout",
     "output_type": "stream",
     "text": [
      "1\n"
     ]
    }
   ],
   "source": [
    "def compute_label(z, M):\n",
    "\n",
    "    # label of point z with a set of centroids M #\n",
    "    dist_list = np.zeros(len(M))\n",
    "    for i in range(0, len(M)):\n",
    "        dist_list[i] = compute_distance(z, M[i])\n",
    "        \n",
    "    label = dist_list.argmin()\n",
    "    \n",
    "    return label\n",
    "\n",
    "\n",
    "temp_z = np.array([0, 0])\n",
    "temp_M = np.array([[1, 10], [0, 1], [100, 100]])\n",
    "\n",
    "print(compute_label(temp_z, temp_M))"
   ]
  },
  {
   "cell_type": "markdown",
   "metadata": {},
   "source": [
    "## 4. define a function to compute the loss with a set of clusters CCC and a set of centroids MMM\n",
    "<hr>"
   ]
  },
  {
   "cell_type": "code",
   "execution_count": 39,
   "metadata": {},
   "outputs": [
    {
     "name": "stdout",
     "output_type": "stream",
     "text": [
      "27.5\n"
     ]
    }
   ],
   "source": [
    "def compute_loss(C, M):\n",
    "\n",
    "    # compute loss #\n",
    "    loss = 0\n",
    "    for c in C :\n",
    "        loss = loss + compute_distance(c, M)    \n",
    "    \n",
    "    return loss / len(C)\n",
    "\n",
    "temp_c = np.array([[5, 5], [1, 2]])\n",
    "temp_m = np.array([0, 0])\n",
    "print(compute_loss(temp_c, temp_m))"
   ]
  },
  {
   "cell_type": "markdown",
   "metadata": {},
   "source": [
    "## 5. plot the data points"
   ]
  },
  {
   "cell_type": "code",
   "execution_count": 42,
   "metadata": {},
   "outputs": [
    {
     "data": {
      "image/png": "[encoded data removed]",
      "text/plain": [
       "<Figure size 504x504 with 1 Axes>"
      ]
     },
     "metadata": {
      "needs_background": "light"
     },
     "output_type": "display_data"
    }
   ],
   "source": [
    "x = data[:,0] \n",
    "y = data[:,1]\n",
    "\n",
    "plt.figure(figsize = (7, 7))\n",
    "plt.scatter(x, y, c = 'black', marker = 'o', label = 'data') \n",
    "plt.title('data point')\n",
    "plt.legend(loc = 'upper right')\n",
    "plt.show()"
   ]
  },
  {
   "cell_type": "markdown",
   "metadata": {},
   "source": [
    "# [Output]\n",
    "<hr>"
   ]
  },
  {
   "cell_type": "code",
   "execution_count": null,
   "metadata": {},
   "outputs": [],
   "source": []
  }
 ],
 "metadata": {
  "kernelspec": {
   "display_name": "Python 3",
   "language": "python",
   "name": "python3"
  },
  "language_info": {
   "codemirror_mode": {
    "name": "ipython",
    "version": 3
   },
   "file_extension": ".py",
   "mimetype": "text/x-python",
   "name": "python",
   "nbconvert_exporter": "python",
   "pygments_lexer": "ipython3",
   "version": "3.8.5"
  }
 },
 "nbformat": 4,
 "nbformat_minor": 4
}
