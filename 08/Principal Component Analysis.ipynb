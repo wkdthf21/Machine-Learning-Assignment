{
 "cells": [
  {
   "cell_type": "markdown",
   "metadata": {},
   "source": [
    "# Principal Component Anlaysis\n",
    "<hr>"
   ]
  },
  {
   "cell_type": "markdown",
   "metadata": {},
   "source": [
    "## 0. Import Library\n",
    "<hr>"
   ]
  },
  {
   "cell_type": "code",
   "execution_count": 175,
   "metadata": {},
   "outputs": [],
   "source": [
    "# Import libraries\n",
    "\n",
    "import numpy as np\n",
    "\n",
    "%matplotlib inline\n",
    "import matplotlib.pyplot as plt\n",
    "\n",
    "import time\n",
    "import math\n",
    "\n",
    "import warnings\n",
    "warnings.filterwarnings('ignore')"
   ]
  },
  {
   "cell_type": "markdown",
   "metadata": {},
   "source": [
    "\n",
    "## 1. Data\n",
    "<hr>\n",
    "\n",
    "load the data from the file"
   ]
  },
  {
   "cell_type": "code",
   "execution_count": 3,
   "metadata": {},
   "outputs": [],
   "source": [
    "data = np.loadtxt('data-pca.txt', delimiter = ',')\n",
    "\n",
    "x = data[:, 0]\n",
    "y = data[:, 1]"
   ]
  },
  {
   "cell_type": "markdown",
   "metadata": {},
   "source": [
    "plot original data points"
   ]
  },
  {
   "cell_type": "code",
   "execution_count": 10,
   "metadata": {},
   "outputs": [
    {
     "data": {
      "image/png": "[encoded data removed]",
      "text/plain": [
       "<Figure size 576x576 with 1 Axes>"
      ]
     },
     "metadata": {
      "needs_background": "light"
     },
     "output_type": "display_data"
    }
   ],
   "source": [
    "plt.figure(figsize = (8, 8))\n",
    "plt.scatter(x, y, c = 'red', marker = '+', s = 120) \n",
    "plt.title('original data points')\n",
    "plt.xlim(0, 7)\n",
    "plt.ylim(2, 8)\n",
    "plt.show()"
   ]
  },
  {
   "cell_type": "markdown",
   "metadata": {},
   "source": [
    "## 2. Normalize Data\n",
    "<hr>\n",
    "\n",
    "define a function to normalize the input data points x and y"
   ]
  },
  {
   "cell_type": "code",
   "execution_count": 11,
   "metadata": {},
   "outputs": [],
   "source": [
    "def normalize_data(x, y) :\n",
    "    xn = (x - np.mean(x)) / np.std(x)\n",
    "    yn = (y - np.mean(y)) / np.std(y)\n",
    "    \n",
    "    return xn, yn"
   ]
  },
  {
   "cell_type": "markdown",
   "metadata": {},
   "source": [
    "plot the normalized data points"
   ]
  },
  {
   "cell_type": "code",
   "execution_count": 12,
   "metadata": {},
   "outputs": [
    {
     "data": {
      "image/png": "[encoded data removed]",
      "text/plain": [
       "<Figure size 576x576 with 1 Axes>"
      ]
     },
     "metadata": {
      "needs_background": "light"
     },
     "output_type": "display_data"
    }
   ],
   "source": [
    "xn, yn = normalize_data(x, y)\n",
    "\n",
    "plt.figure(figsize = (8, 8))\n",
    "plt.scatter(xn, yn, c = 'red', marker = '+', s = 120) \n",
    "plt.title('data normalized by z-scoring')\n",
    "plt.xlim(-3, 3)\n",
    "plt.ylim(-3, 3)\n",
    "plt.show()"
   ]
  },
  {
   "cell_type": "markdown",
   "metadata": {},
   "source": [
    "## 3. Compute Covariance Matrix\n",
    "<hr>\n",
    "\n",
    "define a function to compute the co-variance matrix of the data"
   ]
  },
  {
   "cell_type": "code",
   "execution_count": 97,
   "metadata": {},
   "outputs": [],
   "source": [
    "def compute_covariance(x, y):\n",
    "    \n",
    "    n = len(x)\n",
    "    X = np.empty([0, n])\n",
    "    X = np.append(X, x.reshape(1, -1), axis = 0)\n",
    "    X = np.append(X, y.reshape(1, -1), axis = 0)\n",
    "    \n",
    "    covar = np.dot(X.T, X) / n\n",
    "    \n",
    "    return X, covar\n"
   ]
  },
  {
   "cell_type": "code",
   "execution_count": 98,
   "metadata": {},
   "outputs": [
    {
     "name": "stdout",
     "output_type": "stream",
     "text": [
      "(2, 50)\n",
      "(50, 50)\n"
     ]
    }
   ],
   "source": [
    "X, covar = compute_covariance(xn, yn)\n",
    "print(X.shape)\n",
    "print(covar.shape)"
   ]
  },
  {
   "cell_type": "markdown",
   "metadata": {},
   "source": [
    "## 4. Principal Direction\n",
    "<hr>\n",
    "\n",
    "define a function to compute the principal directions from the co-variance matrix"
   ]
  },
  {
   "cell_type": "code",
   "execution_count": 59,
   "metadata": {},
   "outputs": [],
   "source": [
    "def compute_principal_direction(covariance):\n",
    "\n",
    "    w, v = np.linalg.eig(covariance)\n",
    "    idx = w.argsort()[::-1]\n",
    "    v = v[:, idx]\n",
    "    \n",
    "    return v"
   ]
  },
  {
   "cell_type": "code",
   "execution_count": 66,
   "metadata": {},
   "outputs": [
    {
     "name": "stdout",
     "output_type": "stream",
     "text": [
      "(50, 50)\n"
     ]
    }
   ],
   "source": [
    "principal_direction = compute_principal_direction(covar)\n",
    "print(principal_direction.shape)"
   ]
  },
  {
   "cell_type": "markdown",
   "metadata": {},
   "source": [
    "## 5. Compute Projection\n",
    "<hr>\n",
    "\n",
    "define a function to compute the projection of the data point onto principal axis"
   ]
  },
  {
   "cell_type": "code",
   "execution_count": 228,
   "metadata": {},
   "outputs": [],
   "source": [
    "def compute_projection(point, axis):\n",
    "\n",
    "    Z = np.dot(axis.T, point)\n",
    "    projection = np.dot(axis, Z)\n",
    "    npx, npy = normalize_data(projection[0,:], projection[1,:])\n",
    "    \n",
    "    return npx, npy"
   ]
  },
  {
   "cell_type": "code",
   "execution_count": 229,
   "metadata": {},
   "outputs": [
    {
     "name": "stdout",
     "output_type": "stream",
     "text": [
      "(2, 1)\n",
      "(2, 1)\n"
     ]
    }
   ],
   "source": [
    "axis1 = -X.dot(principal_direction[:, :1])\n",
    "axis2 = -X.dot(principal_direction[:, 1:2])\n",
    "npx1, npy1 = compute_projection(X, axis1)\n",
    "npx2, npy2 = compute_projection(X, axis2)\n",
    "print(axis1.shape)\n",
    "print(axis2.shape)\n",
    "axis1 = axis1.astype(dtype = 'float64')\n",
    "axis2 = axis2.astype(dtype = 'float64')"
   ]
  },
  {
   "cell_type": "code",
   "execution_count": 230,
   "metadata": {
    "scrolled": false
   },
   "outputs": [
    {
     "data": {
      "image/png": "[encoded data removed]",
      "text/plain": [
       "<Figure size 576x576 with 1 Axes>"
      ]
     },
     "metadata": {
      "needs_background": "light"
     },
     "output_type": "display_data"
    }
   ],
   "source": [
    "plt.figure(figsize = (8, 8))\n",
    "plt.scatter(xn, yn, c = 'red', marker = '+', s = 120)\n",
    "plt.quiver([0], [0], axis1[0], axis1[1], angles = 'xy', color = 'blue', scale = 30)\n",
    "plt.quiver([0], [0], axis2[0], axis2[1], angles = 'xy', color = 'green', scale = 50)\n",
    "plt.xlim(-3, 3)\n",
    "plt.ylim(-3, 3)\n",
    "plt.title('principal directions')\n",
    "plt.show()"
   ]
  },
  {
   "cell_type": "code",
   "execution_count": 302,
   "metadata": {
    "scrolled": false
   },
   "outputs": [
    {
     "ename": "SyntaxError",
     "evalue": "invalid syntax (<ipython-input-302-29ce8f39ca00>, line 11)",
     "output_type": "error",
     "traceback": [
      "\u001b[1;36m  File \u001b[1;32m\"<ipython-input-302-29ce8f39ca00>\"\u001b[1;36m, line \u001b[1;32m11\u001b[0m\n\u001b[1;33m    plt.figure(figsize = (8, 8))\u001b[0m\n\u001b[1;37m    ^\u001b[0m\n\u001b[1;31mSyntaxError\u001b[0m\u001b[1;31m:\u001b[0m invalid syntax\n"
     ]
    }
   ],
   "source": [
    "xmin, xmax = xn.min(), xn.max()\n",
    "xx = np.linspace(xmin, xmax, 1000)\n",
    "\n",
    "x_line1 = xx.reshape(1, -1)\n",
    "y_line1 = (-axis1[0] * x_line1 + axis1[1]).reshape(1, -1)\n",
    "\n",
    "x_line1, y_line1 = normalize_data(x_line1, y_line1)\n",
    "x_lin\n",
    "\n",
    "plt.figure(figsize = (8, 8))\n",
    "plt.scatter(xn, yn, c = 'red', marker = '+', s = 120)\n",
    "plt.scatter(x_line1, y_line1, c = 'blue', s = 1)\n",
    "plt.xlim(-3, 3)\n",
    "plt.ylim(-3, 3)\n",
    "plt.title('fist principle axis')\n",
    "plt.show()"
   ]
  },
  {
   "cell_type": "markdown",
   "metadata": {},
   "source": [
    "## 6. Compute Distance\n",
    "<hr>\n",
    "\n",
    "compute the Euclidean distance between point1 and point2"
   ]
  },
  {
   "cell_type": "code",
   "execution_count": null,
   "metadata": {},
   "outputs": [],
   "source": []
  },
  {
   "cell_type": "markdown",
   "metadata": {},
   "source": [
    "# [Output]\n",
    "<hr>"
   ]
  },
  {
   "cell_type": "markdown",
   "metadata": {},
   "source": [
    "## 1. Plot the original data points [1pt]"
   ]
  },
  {
   "cell_type": "code",
   "execution_count": null,
   "metadata": {},
   "outputs": [],
   "source": []
  },
  {
   "cell_type": "markdown",
   "metadata": {},
   "source": [
    "## 2. Plot the normalized data points [1pt]"
   ]
  },
  {
   "cell_type": "code",
   "execution_count": null,
   "metadata": {},
   "outputs": [],
   "source": []
  },
  {
   "cell_type": "markdown",
   "metadata": {},
   "source": [
    "## 3. Plot the principal axes [2pt]"
   ]
  },
  {
   "cell_type": "code",
   "execution_count": null,
   "metadata": {},
   "outputs": [],
   "source": []
  },
  {
   "cell_type": "markdown",
   "metadata": {},
   "source": [
    "## 4. Plot the first principal axis [3pt]"
   ]
  },
  {
   "cell_type": "code",
   "execution_count": null,
   "metadata": {},
   "outputs": [],
   "source": []
  },
  {
   "cell_type": "markdown",
   "metadata": {},
   "source": [
    "## 5. Plot the project of the normalized data points onto the first principal axis [4pt]"
   ]
  },
  {
   "cell_type": "code",
   "execution_count": null,
   "metadata": {},
   "outputs": [],
   "source": []
  },
  {
   "cell_type": "markdown",
   "metadata": {},
   "source": [
    "## 6. Plot the lines between the normalized data points and their projection points on the first principal axis [3pt]"
   ]
  },
  {
   "cell_type": "code",
   "execution_count": null,
   "metadata": {},
   "outputs": [],
   "source": []
  },
  {
   "cell_type": "markdown",
   "metadata": {},
   "source": [
    "## 7. Plot the second principal axis [3pt]"
   ]
  },
  {
   "cell_type": "code",
   "execution_count": null,
   "metadata": {},
   "outputs": [],
   "source": []
  },
  {
   "cell_type": "markdown",
   "metadata": {},
   "source": [
    "## 8. Plot the project of the normalized data points onto the second principal axis [4pt]"
   ]
  },
  {
   "cell_type": "code",
   "execution_count": null,
   "metadata": {},
   "outputs": [],
   "source": []
  },
  {
   "cell_type": "markdown",
   "metadata": {},
   "source": [
    "## 9. Plot the lines between the normalized data points and their projection points on the second principal axis [3pt]"
   ]
  },
  {
   "cell_type": "code",
   "execution_count": null,
   "metadata": {},
   "outputs": [],
   "source": []
  },
  {
   "cell_type": "code",
   "execution_count": null,
   "metadata": {},
   "outputs": [],
   "source": []
  }
 ],
 "metadata": {
  "kernelspec": {
   "display_name": "Python 3",
   "language": "python",
   "name": "python3"
  },
  "language_info": {
   "codemirror_mode": {
    "name": "ipython",
    "version": 3
   },
   "file_extension": ".py",
   "mimetype": "text/x-python",
   "name": "python",
   "nbconvert_exporter": "python",
   "pygments_lexer": "ipython3",
   "version": "3.8.5"
  }
 },
 "nbformat": 4,
 "nbformat_minor": 4
}
